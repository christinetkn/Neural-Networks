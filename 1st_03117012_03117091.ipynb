{
 "cells": [
  {
   "cell_type": "markdown",
   "metadata": {},
   "source": [
    "##  $1^{η}$ Εργαστηριακή Άσκηση Νευρωνικών Δικτύων και Ευφυών Υπολογιστικών Συστημάτων\n"
   ]
  },
  {
   "cell_type": "markdown",
   "metadata": {},
   "source": [
    "###  Επιβλεπόμενη Μάθηση: Ταξινόμηση "
   ]
  },
  {
   "cell_type": "markdown",
   "metadata": {},
   "source": [
    "### Ομάδα 11 (Datasets U11\tK07)\n",
    "- Καράμπελα Θεοφανία ΑΜ: <font color='dodgerblue'>03117091</font>\n",
    "- Τσακανίκα Χριστίνα ΑΜ: <font color='dodgerblue'>03117012</font>"
   ]
  },
  {
   "cell_type": "markdown",
   "metadata": {},
   "source": [
    "### Μέρος 1. UCI  dataset "
   ]
  },
  {
   "cell_type": "markdown",
   "metadata": {},
   "source": [
    "### Σύντομη παρουσίαση του dataset"
   ]
  },
  {
   "cell_type": "code",
   "execution_count": 1,
   "metadata": {
    "collapsed": true
   },
   "outputs": [
    {
     "name": "stdout",
     "output_type": "stream",
     "text": [
      "Requirement already satisfied: scipy in c:\\users\\xrist\\appdata\\local\\programs\\python\\python39-32\\lib\\site-packages (1.7.1)\n",
      "Requirement already satisfied: numpy<1.23.0,>=1.16.5 in c:\\users\\xrist\\appdata\\local\\programs\\python\\python39-32\\lib\\site-packages (from scipy) (1.19.4)\n"
     ]
    },
    {
     "name": "stderr",
     "output_type": "stream",
     "text": [
      "WARNING: You are using pip version 20.3.3; however, version 21.3.1 is available.\n",
      "You should consider upgrading via the 'c:\\users\\xrist\\appdata\\local\\programs\\python\\python39-32\\python.exe -m pip install --upgrade pip' command.\n"
     ]
    }
   ],
   "source": [
    "import sys\n",
    "!{sys.executable} -m pip install scipy\n",
    "\n",
    "import numpy as np\n",
    "import pandas as pd\n",
    "from sklearn.model_selection import train_test_split"
   ]
  },
  {
   "cell_type": "markdown",
   "metadata": {},
   "source": [
    "Eισαγωγή dataset"
   ]
  },
  {
   "cell_type": "code",
   "execution_count": 22,
   "metadata": {},
   "outputs": [],
   "source": [
    "data = pd.read_csv(\"Quality Assessment - Digital Colposcopy/all.csv\", skiprows=[99,197,290])"
   ]
  },
  {
   "cell_type": "markdown",
   "metadata": {},
   "source": [
    "- To dataset αφορά τον υποκειμενικό ποιοτικό έλεγχο ψηφιακών κολποσκοπήσεων."
   ]
  },
  {
   "cell_type": "markdown",
   "metadata": {},
   "source": [
    "- Για το συγκεκριμένο dataset δεν χρειάστηκαν μετατροπές στα αρχεία plain text, παραμόνο να συνενώσουμε τα επιμέρους αρχεία .csv σε ένα ενιαίο."
   ]
  },
  {
   "cell_type": "markdown",
   "metadata": {},
   "source": [
    "- Συνολικά έχουμε:\n",
    "   - _287 δείγματα_\n",
    "   - _69 χαρακτηριστικά εκ των οποίων τα 62 ειναι χαρακτηριστικά πρόβλεψης και τα 7 ειναι target variables_\n",
    "   - _Δεν υπάρχουν μη διατεταγμένα χαρακτηριστικά_"
   ]
  },
  {
   "cell_type": "markdown",
   "metadata": {},
   "source": [
    "- Σε κάθε στήλη εμφανίζεται ως τίτλος το όνομα του χαρακτηριστικού. Οι γραμμές δεν ειναι αριθμημένες."
   ]
  },
  {
   "cell_type": "markdown",
   "metadata": {},
   "source": [
    "- Οι ετικέτες των κλάσεων αποτυπώνονται ως 0 και 1 και βρίσκονται στην τελευταία κολώνα με τίτλο consensus."
   ]
  },
  {
   "cell_type": "markdown",
   "metadata": {},
   "source": [
    "- Με την εντολή: \n",
    "\"findstr \"NaN\" all.csv | find \"NaN\" /c\" στο command line καθώς και \" _print(data.isna().sum()) & print(data.isnull().sum())_\" \n",
    "διαπιστώνουμε πως δεν υπάρχουν απουσιάζουσες τιμές."
   ]
  },
  {
   "cell_type": "markdown",
   "metadata": {},
   "source": [
    "- Το dataset αποτελείται από δύο κλάσεις 1 για το good και 0 για το bad. Για τα ποσοστά των δειγμάτων επί του συνόλου έχουμε ότι η κλάση 1 αποτελεί το 75.26% του συνόλου, ενώ η κλάση 0 αποτελεί το 24.74% αυτού. Εφόσον, η πρώτη κλάση εμφανίζεται τρεις φορές συχνότερα της δεύτερης, το dataset δεν είναι ισορροπημένο.  "
   ]
  },
  {
   "cell_type": "code",
   "execution_count": 23,
   "metadata": {},
   "outputs": [
    {
     "name": "stdout",
     "output_type": "stream",
     "text": [
      "the percentage os zeros is:  24.738675958188153 %\n",
      "the percentage os ones is:  75.26132404181185 %\n",
      "Ones are 3.0422535211267605 times more than zeros\n"
     ]
    }
   ],
   "source": [
    "zeros = data[data.consensus == 0].shape[0]\n",
    "ones = data[data.consensus == 1].shape[0]\n",
    "print(\"the percentage os zeros is: \", (zeros/(zeros+ones))*100, '%')\n",
    "print(\"the percentage os ones is: \", (ones/(zeros+ones))*100, '%')\n",
    "print(\"Ones are\", ones/zeros, \"times more than zeros\")"
   ]
  },
  {
   "cell_type": "markdown",
   "metadata": {},
   "source": [
    "### Προετοιμασία"
   ]
  },
  {
   "cell_type": "markdown",
   "metadata": {},
   "source": [
    "Θέτουμε το _test_size = 0.3_ προκειμένου να εξασφαλίσουμε  test set ισο με το 30% των δειγμάτων. Δεν υπάρχουν απουσιάζουσες τιμές ούτε και κατηγορικά ή μη διατεταγμένα χαρακτηριστικά."
   ]
  },
  {
   "cell_type": "code",
   "execution_count": 24,
   "metadata": {},
   "outputs": [],
   "source": [
    "# Defining X and y (Features and Labels)\n",
    "X = np.array(data.drop([\"experts::0\",\"experts::1\",\"experts::2\",\"experts::3\",\"experts::4\",\"experts::5\",\"consensus\"], axis = 1))\n",
    "y = np.array(data[\"consensus\"])\n",
    "\n",
    "X_train, X_test, y_train, y_test = train_test_split(X, y, test_size = 0.3, random_state = 0)"
   ]
  },
  {
   "cell_type": "markdown",
   "metadata": {},
   "source": [
    "### Ταξινόμηση"
   ]
  },
  {
   "cell_type": "code",
   "execution_count": 25,
   "metadata": {},
   "outputs": [],
   "source": [
    "from sklearn.model_selection import cross_val_score\n",
    "from sklearn.dummy import DummyClassifier\n",
    "from sklearn.naive_bayes import GaussianNB\n",
    "from sklearn.neighbors import KNeighborsClassifier\n",
    "from sklearn.linear_model import LogisticRegression\n",
    "from sklearn import metrics"
   ]
  },
  {
   "cell_type": "code",
   "execution_count": 26,
   "metadata": {},
   "outputs": [],
   "source": [
    "def perform_cross_val(classifier, X, y):\n",
    "    acc = cross_val_score(classifier, X, y, cv=10)\n",
    "    f1 = cross_val_score(classifier, X, y, cv=10 , scoring='f1')\n",
    "    print(\"The mean accuracy for \"+ str(classifier)[:-2]+\" is: \", acc.mean(), \"\\n\", \"The F1-score for \"+ str(classifier)[:-2]+\" is:\", f1.mean(),  '\\n')"
   ]
  },
  {
   "cell_type": "markdown",
   "metadata": {},
   "source": [
    "### Eπίδοση οut-of-the-box"
   ]
  },
  {
   "cell_type": "markdown",
   "metadata": {},
   "source": [
    "1."
   ]
  },
  {
   "cell_type": "code",
   "execution_count": 27,
   "metadata": {},
   "outputs": [
    {
     "name": "stdout",
     "output_type": "stream",
     "text": [
      "The mean accuracy for DummyClassifier is:  0.775 \n",
      " The F1-score for DummyClassifier is: 0.8730158730158729 \n",
      "\n",
      "The mean accuracy for GaussianNB is:  0.755 \n",
      " The F1-score for GaussianNB is: 0.8383939192748817 \n",
      "\n",
      "The mean accuracy for KNeighborsClassifier is:  0.78 \n",
      " The F1-score for KNeighborsClassifier is: 0.8699046133604957 \n",
      "\n",
      "The mean accuracy for LogisticRegression is:  0.7750000000000001 \n",
      " The F1-score for LogisticRegression is: 0.8657151619200955 \n",
      "\n"
     ]
    }
   ],
   "source": [
    "import warnings\n",
    "warnings.filterwarnings('ignore')\n",
    "\n",
    "perform_cross_val(DummyClassifier(), X_train,y_train)\n",
    "perform_cross_val(GaussianNB(), X_train,y_train)\n",
    "perform_cross_val(KNeighborsClassifier(), X_train,y_train)\n",
    "perform_cross_val(LogisticRegression(), X_train,y_train)"
   ]
  },
  {
   "cell_type": "markdown",
   "metadata": {},
   "source": [
    "| Classifier | Accuracy | F1-score |\n",
    "| --- | --- | --- |\n",
    "| Dummy | 0.775 | 0.873 |\n",
    "| --- | --- | --- |\n",
    "| Gaussian Naive Bayes | 0.755  | 0.838 |\n",
    "| --- | --- | --- |\n",
    "| K Neighbors | 0.780 | 0.870 |\n",
    "| --- | --- | --- |\n",
    "| Logistic Regression | 0.775 | 0.866 |"
   ]
  },
  {
   "cell_type": "markdown",
   "metadata": {},
   "source": [
    "2."
   ]
  },
  {
   "cell_type": "code",
   "execution_count": 28,
   "metadata": {},
   "outputs": [
    {
     "data": {
      "image/png": "[encoded data removed]",
      "text/plain": [
       "<Figure size 1080x360 with 2 Axes>"
      ]
     },
     "metadata": {
      "needs_background": "light"
     },
     "output_type": "display_data"
    }
   ],
   "source": [
    "import matplotlib.pyplot as plt\n",
    " \n",
    "res = {'Dummy':(0.775, 0.873), 'Gaussian Naive Bayes':(0.860, 0.913), 'K Neighbors':(0.780, 0.870),\n",
    "        'Logistic Regression':(0.815, 0.898)}\n",
    "\n",
    "\n",
    "classifiers = list(res.keys())\n",
    "values = np.array(list(res.values()))\n",
    "f1score = values[:,1]   \n",
    "accur =  values[:,0]\n",
    "\n",
    "#print(f1score, accur)\n",
    "\n",
    "fig, (ax1, ax2) = plt.subplots(1, 2, figsize = (15, 5))\n",
    "ax1.set_title('Accuracy')\n",
    "ax1.bar(classifiers, accur, color ='paleturquoise', width = 0.4)\n",
    "ax2.set_title('F1-score')\n",
    "ax2.bar(classifiers, f1score, color ='khaki',width = 0.4)\n",
    "\n",
    "plt.show()"
   ]
  },
  {
   "cell_type": "markdown",
   "metadata": {},
   "source": [
    "Σύμφωνα με τα παραπάνω, ο Gaussian classifier παρουσιάζει τις υψηλότερες επιδόσεις και στις δύο μετρικές. H υπόθεση πως τα χαρακτηριστικά κάθε δείγματος είναι ανεξάρτητα μεταξύ τους, επιταχύνουν το χρόνο υπολογισμού, σημειώνοντας υψηλή ακρίβεια. Στην προκειμένη περίπτωση, όπου ορισμένα χαρακτηριστικά παρουσίαζαν πράγματι ανεξαρτησία, ο αλγόριθμος καθίσταται επιπλέον αποδοτικός. Ακολουθεί ο Logistic Regression, K Neighbors και τέλος ο Dummy.\n",
    "Παρατηρούμε επιπλέον, πως τα F1-scores ειναι υψηλότερα των αντίστοιχων accuracies, διότι η μετρική αυτή αποδίδει καλύτερα όταν το dataset ειναι imbalanced. Συγκεκριμένα, ο αρμονικός μέσος όρος των Precision και Recall μετριάζει τα δείγματα που δεν κατηγοριοποιήθηκαν σωστά."
   ]
  },
  {
   "cell_type": "markdown",
   "metadata": {},
   "source": [
    "### Βελτιστοποίηση"
   ]
  },
  {
   "cell_type": "code",
   "execution_count": 15,
   "metadata": {
    "collapsed": true
   },
   "outputs": [
    {
     "name": "stdout",
     "output_type": "stream",
     "text": [
      "Collecting imbalanced-learn\n",
      "  Using cached imbalanced_learn-0.8.1-py3-none-any.whl (189 kB)\n",
      "Requirement already satisfied: scipy>=0.19.1 in c:\\users\\xrist\\appdata\\local\\programs\\python\\python39-32\\lib\\site-packages (from imbalanced-learn) (1.7.1)\n",
      "Requirement already satisfied: scikit-learn>=0.24 in c:\\users\\xrist\\appdata\\local\\programs\\python\\python39-32\\lib\\site-packages (from imbalanced-learn) (1.0)\n",
      "Requirement already satisfied: numpy>=1.13.3 in c:\\users\\xrist\\appdata\\local\\programs\\python\\python39-32\\lib\\site-packages (from imbalanced-learn) (1.19.4)\n",
      "Requirement already satisfied: joblib>=0.11 in c:\\users\\xrist\\appdata\\local\\programs\\python\\python39-32\\lib\\site-packages (from imbalanced-learn) (1.1.0)\n",
      "Requirement already satisfied: threadpoolctl>=2.0.0 in c:\\users\\xrist\\appdata\\local\\programs\\python\\python39-32\\lib\\site-packages (from scikit-learn>=0.24->imbalanced-learn) (3.0.0)\n",
      "Installing collected packages: imbalanced-learn\n",
      "Successfully installed imbalanced-learn-0.8.1\n"
     ]
    },
    {
     "name": "stderr",
     "output_type": "stream",
     "text": [
      "WARNING: You are using pip version 20.3.3; however, version 21.3.1 is available.\n",
      "You should consider upgrading via the 'c:\\users\\xrist\\appdata\\local\\programs\\python\\python39-32\\python.exe -m pip install --upgrade pip' command.\n"
     ]
    }
   ],
   "source": [
    "!pip install -U imbalanced-learn"
   ]
  },
  {
   "cell_type": "markdown",
   "metadata": {},
   "source": [
    "- Προεπεξεργασία"
   ]
  },
  {
   "cell_type": "code",
   "execution_count": 30,
   "metadata": {},
   "outputs": [],
   "source": [
    "from sklearn.feature_selection import VarianceThreshold\n",
    "from sklearn import preprocessing\n",
    "from imblearn.over_sampling import RandomOverSampler\n",
    "from sklearn.preprocessing import MultiLabelBinarizer\n",
    "from sklearn.decomposition import PCA\n",
    "from sklearn.metrics import classification_report\n",
    "from sklearn.neural_network import MLPClassifier\n",
    "\n",
    "\n",
    "def perform_preprocessing(classifier, X_train,X_test, y_test, y_train):\n",
    "        \n",
    "    selector = VarianceThreshold()\n",
    "    train_reduced = selector.fit_transform(X_train)\n",
    "    #mask = selector.get_support()\n",
    "    #y_reduced = y[:,mask]\n",
    "    test_reduced = selector.transform(X_test)\n",
    "    \n",
    "    scaler = preprocessing.StandardScaler().fit(train_reduced)\n",
    "    train_scaled = scaler.transform(train_reduced)\n",
    "    test_scaled = scaler.transform(test_reduced)\n",
    "\n",
    "    ros = RandomOverSampler()\n",
    "    #print(\"the shapes are: \", train_scaled.shape,len(y_train))\n",
    "    #mlb = MultiLabelBinarizer().fit(y)\n",
    "    train_resampled, trainTargets_resampled = ros.fit_resample(train_scaled,y_train)\n",
    "\n",
    "    n = 25\n",
    "    pca = PCA(n_components=n)\n",
    "    trainPCA = pca.fit_transform(train_resampled)\n",
    "    testPCA = pca.transform(test_scaled)\n",
    "    \n",
    "    classifier.fit(trainPCA, trainTargets_resampled)\n",
    "    preds = classifier.predict(testPCA)\n",
    "    #print(len(y_test),len(preds))\n",
    "    print(classification_report(y_test, preds))\n",
    "    #return X_transformed\n",
    "    acc = cross_val_score(classifier, trainPCA, trainTargets_resampled, cv=10)\n",
    "    #acc = acc.mean()\n",
    "    f1 = cross_val_score(classifier, trainPCA, trainTargets_resampled, cv=10 , scoring='f1')\n",
    "    print(\"The mean accuracy for \"+ str(classifier)[:-2]+\" is: \", acc.mean(), \"\\n\", \"The F1-score for \"+ str(classifier)[:-2]+\" is:\", f1.mean(),  '\\n')"
   ]
  },
  {
   "cell_type": "code",
   "execution_count": 33,
   "metadata": {},
   "outputs": [
    {
     "name": "stdout",
     "output_type": "stream",
     "text": [
      "precision    recall  f1-score   support\n",
      "\n",
      "         0.0       0.30      1.00      0.46        26\n",
      "         1.0       0.00      0.00      0.00        61\n",
      "\n",
      "    accuracy                           0.30        87\n",
      "   macro avg       0.15      0.50      0.23        87\n",
      "weighted avg       0.09      0.30      0.14        87\n",
      "\n",
      "The mean accuracy for DummyClassifier is:  0.4838709677419356 \n",
      " The F1-score for DummyClassifier is: 0.32608695652173914 \n",
      "\n",
      "              precision    recall  f1-score   support\n",
      "\n",
      "         0.0       0.35      0.35      0.35        26\n",
      "         1.0       0.72      0.72      0.72        61\n",
      "\n",
      "    accuracy                           0.61        87\n",
      "   macro avg       0.53      0.53      0.53        87\n",
      "weighted avg       0.61      0.61      0.61        87\n",
      "\n",
      "The mean accuracy for GaussianNB is:  0.7612903225806452 \n",
      " The F1-score for GaussianNB is: 0.8484651064726966 \n",
      "\n",
      "              precision    recall  f1-score   support\n",
      "\n",
      "         0.0       0.38      0.35      0.36        26\n",
      "         1.0       0.73      0.75      0.74        61\n",
      "\n",
      "    accuracy                           0.63        87\n",
      "   macro avg       0.55      0.55      0.55        87\n",
      "weighted avg       0.62      0.63      0.63        87\n",
      "\n",
      "The mean accuracy for KNeighborsClassifier is:  0.8129032258064516 \n",
      " The F1-score for KNeighborsClassifier is: 0.8936626199979435 \n",
      "\n",
      "              precision    recall  f1-score   support\n",
      "\n",
      "         0.0       0.50      0.58      0.54        26\n",
      "         1.0       0.81      0.75      0.78        61\n",
      "\n",
      "    accuracy                           0.70        87\n",
      "   macro avg       0.65      0.67      0.66        87\n",
      "weighted avg       0.72      0.70      0.71        87\n",
      "\n",
      "The mean accuracy for LogisticRegression is:  0.7761290322580645 \n",
      " The F1-score for LogisticRegression is: 0.8043703719899492 \n"
     ]
    }
   ],
   "source": [
    "perform_preprocessing(DummyClassifier(), X_train,X_test, y_test, y_train)\n",
    "perform_preprocessing(GaussianNB(), X_train,X_test, y_test, y_train)\n",
    "perform_preprocessing(KNeighborsClassifier(), X_train,X_test, y_test, y_train)\n",
    "perform_preprocessing(LogisticRegression(), X_train,X_test, y_test, y_train)"
   ]
  },
  {
   "cell_type": "markdown",
   "metadata": {},
   "source": [
    "- Pipeline"
   ]
  },
  {
   "cell_type": "code",
   "execution_count": 34,
   "metadata": {},
   "outputs": [],
   "source": [
    "from imblearn.pipeline import Pipeline\n",
    "from sklearn.feature_selection import VarianceThreshold\n",
    "from sklearn.preprocessing import StandardScaler\n",
    "from imblearn.over_sampling import RandomOverSampler\n",
    "from sklearn.decomposition import PCA   \n",
    "\n",
    "def define_pipeline(classifier,X,y):\n",
    "    selector = VarianceThreshold()\n",
    "    scaler = StandardScaler()\n",
    "    ros = RandomOverSampler()\n",
    "    pca = PCA()\n",
    "    pipe = Pipeline(steps=[('selector', selector), ('scaler', scaler), ('sampler', ros), ('pca', pca), ('classifier', classifier)])\n",
    "    \n",
    "    acc = cross_val_score(classifier, X, y, cv=10) #X_train, y_train\n",
    "    f1 = cross_val_score(classifier, X, y, cv=10 , scoring='f1') #X_train, y_train\n",
    "    print(\"The mean accuracy for \"+ str(classifier)[:-2]+\" is: \", acc.mean(), \"\\n\", \"The F1-score for \"+ str(classifier)[:-2]+\" is:\", f1.mean(),  '\\n') \n",
    "    \n",
    "    return selector, scaler, ros, pca, pipe"
   ]
  },
  {
   "cell_type": "code",
   "execution_count": 36,
   "metadata": {},
   "outputs": [
    {
     "name": "stdout",
     "output_type": "stream",
     "text": [
      "The mean accuracy for DummyClassifier is:  0.775 \n",
      " The F1-score for DummyClassifier is: 0.8730158730158729 \n",
      "\n",
      "The mean accuracy for GaussianNB is:  0.785 \n",
      " The F1-score for GaussianNB is: 0.8583939192748817 \n",
      "\n",
      "The mean accuracy for KNeighborsClassifier is:  0.815 \n",
      " The F1-score for KNeighborsClassifier is: 0.8699046133604957 \n",
      "\n",
      "The mean accuracy for LogisticRegression is:  0.7780000000000001 \n",
      " The F1-score for LogisticRegression is: 0.8657151619200955 \n",
      "\n"
     ]
    }
   ],
   "source": [
    "define_pipeline(DummyClassifier(), X_train,y_train)\n",
    "define_pipeline(GaussianNB(), X_train,y_train)\n",
    "define_pipeline(KNeighborsClassifier(), X_train,y_train)\n",
    "define_pipeline(LogisticRegression(), X_train,y_train)"
   ]
  },
  {
   "cell_type": "markdown",
   "metadata": {},
   "source": [
    "- Eύρεση βέλτιστων υπερμαραμέτρων με grid search & cross validation"
   ]
  },
  {
   "cell_type": "markdown",
   "metadata": {},
   "source": [
    "Aρχικά με την εντολή \"print(np.max(X_train.var(axis=0)))\" ελέγχουμε που κυμαίνεται η διακύμανση των train δεδομένων, προκειμένου να καθορίσουμε στην συνέχεια τον variance threshold πίνακα. Παρακάτω, παρουσιάζονται τα scores και οι καλύτερες παράμετροι για κάθε μετρική και κάθε μοντέλο αντίστοιχα."
   ]
  },
  {
   "cell_type": "code",
   "execution_count": 44,
   "metadata": {},
   "outputs": [
    {
     "name": "stdout",
     "output_type": "stream",
     "text": [
      "0.795\n",
      "{'dummy__strategy': 'stratified', 'pca__n_components': 14, 'selector__threshold': 1200}\n",
      "0.892630485733934\n",
      "{'dummy__strategy': 'uniform', 'pca__n_components': 10, 'selector__threshold': 700}\n"
     ]
    }
   ],
   "source": [
    "DummyClassifier().get_params()\n",
    "from sklearn.model_selection import GridSearchCV\n",
    "\n",
    "vthreshold = [0,1,10,20,30,50,80,90, 100,200, 300, 400, 500, 600, 700, 800,900, 1000, 1100, 1200, 1300] \n",
    "n_components = [10, 11,12,13,14,15,16,17, 23,24,25,26,27,28]\n",
    "\n",
    "selector, scaler, ros, pca, _ = define_pipeline(DummyClassifier(), X_train,y_train)\n",
    "\n",
    "dummy_pipe = Pipeline(steps=[('selector', selector), ('scaler', scaler), ('sampler', ros), ('pca', pca), ('dummy', DummyClassifier())], memory = 'tmp')\n",
    "dummy_param_grid = dict(selector__threshold=vthreshold, pca__n_components=n_components, dummy__strategy=[\"stratified\", \"most_frequent\", \"prior\", \"uniform\", \"constant\"])\n",
    "\n",
    "dummy_grid_acc = GridSearchCV(dummy_pipe, dummy_param_grid, cv=10, scoring='accuracy').fit(X_train, y_train)\n",
    "dummy_grid_f1 = GridSearchCV(dummy_pipe, dummy_param_grid, cv=10, scoring='f1').fit(X_train, y_train)\n",
    "\n",
    "print(dummy_grid_acc.best_score_)\n",
    "print(dummy_grid_acc.best_params_)\n",
    "\n",
    "print(dummy_grid_f1.best_score_)\n",
    "print(dummy_grid_f1.best_params_)\n"
   ]
  },
  {
   "cell_type": "code",
   "execution_count": 42,
   "metadata": {},
   "outputs": [
    {
     "name": "stdout",
     "output_type": "stream",
     "text": [
      "0.799\n",
      "{'gaussian__var_smoothing': 1e-09, 'pca__n_components': 14, 'selector__threshold': 0}\n",
      "0.8792332431225318\n",
      "{'gaussian__var_smoothing': 1e-09, 'pca__n_components': 14, 'selector__threshold': 0}\n"
     ]
    }
   ],
   "source": [
    "GaussianNB().get_params()\n",
    "from sklearn.model_selection import GridSearchCV\n",
    "\n",
    "vthreshold = [0,1,10,20,30,50,80,90, 100,200, 300, 400, 500, 600, 700, 800,900, 1000, 1100, 1200, 1300] \n",
    "n_components = [10, 11,12,13,14,15,16,17, 23,24,25,26,27,28]\n",
    "\n",
    "selector, scaler, ros, pca, _ = define_pipeline(GaussianNB(), X_train,y_train)\n",
    "\n",
    "gaussian_pipe = Pipeline(steps=[('selector', selector), ('scaler', scaler), ('sampler', ros), ('pca', pca), ('gaussian', GaussianNB())], memory = 'tmp')\n",
    "gaussian_param_grid = dict( selector__threshold=vthreshold, pca__n_components=n_components, gaussian__var_smoothing=[1e-09,1e-08,1e-10,1e-11])\n",
    "\n",
    "gaussian_grid_acc = GridSearchCV(gaussian_pipe, gaussian_param_grid, cv=10, scoring='accuracy').fit(X_train, y_train)\n",
    "gaussian_grid_f1 = GridSearchCV(gaussian_pipe, gaussian_param_grid, cv=10, scoring='f1').fit(X_train, y_train)\n",
    "\n",
    "print(gaussian_grid_acc.best_score_)\n",
    "print(gaussian_grid_acc.best_params_)\n",
    "\n",
    "print(gaussian_grid_f1.best_score_)\n",
    "print(gaussian_grid_f1.best_params_)\n"
   ]
  },
  {
   "cell_type": "code",
   "execution_count": 45,
   "metadata": {},
   "outputs": [
    {
     "name": "stdout",
     "output_type": "stream",
     "text": [
      "0.822\n",
      "{'neighbors__n_neighbors': 29, 'neighbors__weights': 'uniform', 'pca__n_components': 17, 'selector__threshold': 0}\n",
      "0.8657122013028085\n",
      "{'neighbors__n_neighbors': 30, 'neighbors__weights': 'distance', 'pca__n_components': 16, 'selector__threshold': 0}\n"
     ]
    }
   ],
   "source": [
    "from sklearn.model_selection import GridSearchCV\n",
    "from sklearn.model_selection import GridSearchCV\n",
    "\n",
    "vthreshold = [0,1,10,20,30,50,80,90, 100,200, 300, 400, 500, 600, 700, 800,900, 1000, 1100, 1200, 1300] \n",
    "n_components = [10, 11,12,13,14,15,16,17, 23,24,25,26,27,28]\n",
    "\n",
    "selector, scaler, ros, pca, _ = define_pipeline(KNeighborsClassifier(), X_train,y_train)\n",
    "\n",
    "neighbors_pipe = Pipeline(steps=[('selector', selector), ('scaler', scaler), ('sampler', ros), ('pca', pca), ('neighbors', KNeighborsClassifier())], memory = 'tmp')\n",
    "neighbors_param_grid = dict( selector__threshold=vthreshold, pca__n_components=n_components, neighbors__n_neighbors=list(range(1, 31)), neighbors__weights=['uniform', 'distance'])\n",
    "\n",
    "neighbors_grid_acc = GridSearchCV(neighbors_pipe, neighbors_param_grid, cv=10, scoring='accuracy').fit(X_train, y_train)\n",
    "neighbors_grid_f1 = GridSearchCV(neighbors_pipe, neighbors_param_grid, cv=10, scoring='f1').fit(X_train, y_train)\n",
    "\n",
    "print(neighbors_grid_acc.best_score_)\n",
    "print(neighbors_grid_acc.best_params_)\n",
    "\n",
    "print(neighbors_grid_f1.best_score_)\n",
    "print(neighbors_grid_f1.best_params_)"
   ]
  },
  {
   "cell_type": "code",
   "execution_count": 46,
   "metadata": {},
   "outputs": [
    {
     "name": "stdout",
     "output_type": "stream",
     "text": [
      "0.7950000000000001\n",
      "{'logistic__C': 0.1, 'logistic__class_weight': 'balanced', 'logistic__penalty': 'l2', 'logistic__tol': 1e-19, 'pca__n_components': 20, 'selector__threshold': 0}\n",
      "0.8887234687526572\n",
      "{'logistic__C': 0.1, 'logistic__class_weight': 'balanced', 'logistic__penalty': 'l2', 'logistic__tol': 1e-19, 'pca__n_components': 20, 'selector__threshold': 0}\n"
     ]
    }
   ],
   "source": [
    "from sklearn.model_selection import GridSearchCV\n",
    "from sklearn.model_selection import GridSearchCV\n",
    "\n",
    "vthreshold = [-500,-100,-90,-1,0,1] \n",
    "n_components = [1,2,5,9,10,11,12,13,14,20]\n",
    "\n",
    "selector, scaler, ros, pca, _ = define_pipeline(LogisticRegression(), X_train,y_train)\n",
    "\n",
    "logistic_pipe = Pipeline(steps=[('selector', selector), ('scaler', scaler), ('sampler', ros), ('pca', pca), ('logistic', LogisticRegression())], memory = 'tmp')\n",
    "logistic_param_grid = dict( selector__threshold=vthreshold, pca__n_components=n_components, logistic__C = [0.0001,0.001,0.1,1.0, 10.0, 100.0, 1000.0], logistic__class_weight = [\"balanced\",\"None\"],\n",
    "                           logistic__penalty=[\"l1\",\"l2\",\"none\",\"elasticnet\"],logistic__tol = [1e-19,1e-18,1e-17,1e-16,1e-15])\n",
    "\n",
    "logistic_grid_acc = GridSearchCV(logistic_pipe, logistic_param_grid, cv=10, scoring='accuracy').fit(X_train, y_train)\n",
    "logistic_grid_f1 = GridSearchCV(logistic_pipe, logistic_param_grid, cv=10, scoring='f1').fit(X_train, y_train)\n",
    "\n",
    "print(logistic_grid_acc.best_score_)\n",
    "print(logistic_grid_acc.best_params_)\n",
    "\n",
    "print(logistic_grid_f1.best_score_)\n",
    "print(logistic_grid_f1.best_params_)\n",
    "\n"
   ]
  },
  {
   "cell_type": "markdown",
   "metadata": {},
   "source": [
    "Eκπαιδεύουμε το καλύτερο μοντέλο κάθε ταξινομητή, στο σύνολο του train set και εκτιμούμε την επίδοσή του στο test set."
   ]
  },
  {
   "cell_type": "code",
   "execution_count": 47,
   "metadata": {},
   "outputs": [
    {
     "name": "stdout",
     "output_type": "stream",
     "text": [
      "Dummy Classifier Training time: 0.01\n",
      "Best Dummy Classifier model accuracy:  0.47126436781609193\n",
      "Dummy Classifier Test time: 0.001\n",
      "\n",
      "\n",
      "Guassian Classifier Training time: 0.014\n",
      "Best Gaussian Naive Bayes Classifier model accuracy:  0.7011494252873564\n",
      "Gaussian Classifier Test time: 0.008\n",
      "\n",
      "\n",
      "K Neighbors Classifier Training time: 0.008\n",
      "Best K Neighbors Classifier model accuracy:  0.7471264367816092\n",
      "K Neighbors Classifier Test time: 0.008\n",
      "\n",
      "\n",
      "Logistic Classifier Training time: 0.024\n",
      "Best Logistic Regression model accuracy:  0.6781609195402298\n",
      "Logistic Classifier Test time: 0.0\n"
     ]
    }
   ],
   "source": [
    "import time\n",
    "#uniform', 'pca__n_components': 24, 'selector__threshold': 500\n",
    "def best_model(n_components,threshold, classifier):\n",
    "    selector = VarianceThreshold(threshold)\n",
    "    scaler = StandardScaler()\n",
    "    ros = RandomOverSampler()\n",
    "    pca = PCA(n_components)\n",
    "    pipe = Pipeline(steps=[('selector', selector), ('scaler', scaler), ('sampler', ros), ('pca', pca), ('classifier', classifier)])\n",
    "    return pipe\n",
    "\n",
    "t0=time.time()\n",
    "best_dummy = best_model(n_components = 14,threshold=1200, classifier = DummyClassifier(strategy = 'stratified'))\n",
    "best_dummy.fit(X_train,y_train)\n",
    "print(\"Dummy Classifier Training time:\", round(time.time()-t0, 3))\n",
    "t1=time.time()\n",
    "print(\"Best Dummy Classifier model accuracy: \", best_dummy.score(X_test,y_test))\n",
    "print(\"Dummy Classifier Test time:\", round(time.time()-t1, 3))\n",
    "print('\\n')\n",
    "\n",
    "#{'gaussian__var_smoothing': 1e-09, 'pca__n_components': 13, 'selector__threshold': 0}\n",
    "t2=time.time()\n",
    "best_gaussian = best_model(n_components = 14,threshold=0, classifier = GaussianNB(var_smoothing = 1e-09))\n",
    "best_gaussian.fit(X_train,y_train)\n",
    "print(\"Guassian Classifier Training time:\", round(time.time()-t2, 3))\n",
    "t3=time.time()\n",
    "print(\"Best Gaussian Naive Bayes Classifier model accuracy: \",best_gaussian.score(X_test,y_test))\n",
    "print(\"Gaussian Classifier Test time:\", round(time.time()-t3, 3))\n",
    "print('\\n')\n",
    "\n",
    "#neighbors__n_neighbors': 1, 'neighbors__weights': 'uniform', 'pca__n_components': 9,'selector__threshold': 0} 0.\n",
    "t4=time.time()\n",
    "best_neighbors = best_model(n_components = 17,threshold=0, classifier = KNeighborsClassifier(n_neighbors=29,weights='uniform' ))\n",
    "best_neighbors.fit(X_train,y_train)\n",
    "print(\"K Neighbors Classifier Training time:\", round(time.time()-t4, 3))\n",
    "t5=time.time()\n",
    "print(\"Best K Neighbors Classifier model accuracy: \",best_neighbors.score(X_test,y_test))\n",
    "print(\"K Neighbors Classifier Test time:\", round(time.time()-t5, 3))\n",
    "print('\\n')\n",
    "\n",
    "#logistic__C': 1.0, 'logistic__class_weight': 'balanced', 'logistic__penalty': 'l2', 'logistic__tol': 1e-19, 'pca__n_components': 14\n",
    "t6=time.time()\n",
    "best_logistic =  best_model(n_components = 20,threshold=0, classifier = LogisticRegression(C=1.0, class_weight='balanced', penalty='l2', tol=1e-19 ))\n",
    "best_logistic.fit(X_train,y_train)\n",
    "print(\"Logistic Classifier Training time:\", round(time.time()-t6, 3))\n",
    "t7=time.time()\n",
    "print(\"Best Logistic Regression model accuracy: \", best_logistic.score(X_test,y_test))\n",
    "print(\"Logistic Classifier Test time:\", round(time.time()-t7, 3))"
   ]
  },
  {
   "cell_type": "markdown",
   "metadata": {},
   "source": [
    "### Aποτελέσματα και συμπεράσματα"
   ]
  },
  {
   "cell_type": "markdown",
   "metadata": {},
   "source": [
    "1.\n",
    "\n",
    "| Classifier | Accuracy | F1-score | otb Accuracy |otb F1-score |Train Time | Test Time |Accuracy in test set|\n",
    "| --- | --- | --- |--- | --- |--- | --- |--- |\n",
    "| Dummy | 0.795 | 0.893 | +0.002| +0.002 |0.010 | 0.001 |0.471 |\n",
    "| --- | --- | --- |--- | --- |--- | --- |--- |\n",
    "| Gaussian Naive Bayes | 0.799 | 0.879 |+0.044 |+0.041 |0.014| 0.008 |0.701 |\n",
    "| --- | --- | --- |--- | --- |--- | --- |--- |\n",
    "| K Neighbors | 0.822 | 0.866 |+0.0800 | +0.042 |-0.004 | 0.008 |0.747 |\n",
    "| --- | --- | --- |--- | --- |--- | --- |--- |\n",
    "| Logistic Regression | 0.795 | 0.889 |+0.020 |+0.023 |0.024 | 0.008 |0.678 |\n",
    "\n",
    "<br>\n",
    "otb Accuracy:  Η διαφορά συγκριτικά με το οut of the box μοντέλο, κατά τη μετρική  accuracy.\n",
    "<br>\n",
    "otb F1-score : H διαφορά συγκριτικά με το out of the box μοντέλο, κατά τη μετρική F1-score.\n"
   ]
  },
  {
   "cell_type": "markdown",
   "metadata": {},
   "source": [
    "2. Bar plot σύγκρισης"
   ]
  },
  {
   "cell_type": "code",
   "execution_count": 48,
   "metadata": {},
   "outputs": [
    {
     "data": {
      "image/png": "[encoded data removed]",
      "text/plain": [
       "<Figure size 1080x360 with 2 Axes>"
      ]
     },
     "metadata": {
      "needs_background": "light"
     },
     "output_type": "display_data"
    }
   ],
   "source": [
    "colors1 = ['paleturquoise','khaki','red' ]\n",
    "colors2 = ['cyan','coral','hotpink' ]\n",
    "\n",
    "res1 = {'D1':(0.775),'D2':(0.795),\"diff1\":(0.002), 'GNB1':(0.755),'GNB2':(0.799), \n",
    "        \"diff2\":(0.044),'KN1':(0.7800),'KN2':(0.866),\"diff3\":(0.0800),\n",
    "        'LR1':(0.775),'LR2':(0.795),\"diff4\":(0.020)}\n",
    "        \n",
    "res2 = {'D1':(0.873),'D2':(0.893), \"diff1\":(0.002),\n",
    "        'GNB1':(0.838),'GNB2':(0.879),\"diff2\":(0.041),\n",
    "        'KN1':(0.870),'KN2':(0.866),\"diff3\":(0.042),\n",
    "        'LR1':(0.866),'LR2':(0.889),\"diff4\":(0.023)}\n",
    "\n",
    "classifiers1 = list(res1.keys())\n",
    "values1 = np.array(list(res1.values()))\n",
    "values2 = np.array(list(res2.values()))\n",
    "\n",
    "\n",
    "fig, (ax1, ax2) = plt.subplots(1, 2, figsize = (15, 5))\n",
    "ax1.set_title('Accuracy')\n",
    "ax1.bar(classifiers1, values1, color=colors1, width = 0.4)\n",
    "ax2.set_title('F1-score')\n",
    "ax2.bar(classifiers1, values2, color =colors2,width = 0.4)\n",
    "plt.show()"
   ]
  },
  {
   "cell_type": "markdown",
   "metadata": {},
   "source": [
    "Ο δείκτης 1 αποδίδεται στους ταξινομητές out of the box, ενώ ο δείκτης 2 στους βελτιστοποιημένους. Με diff συμβολίζουμε την διαφορά στην επίδοση για κάθε ζεύγος ταξινομητών. Όπως ήταν αναμενόμενο, οι ταξινομητές έπειτα απο τη βελτιστοποίηση σημειώνουν πολύ υψηλές αποδόσεις, υψηλότερες από αυτές των out of the box και για τις δύο μετρικές. Πιο συγκεκριμένα, ο ταξινομητής K Neighbors είναι αυτός με το υηλότερο score καθώς και αυτός που εμφανίζει τη μεγαλύτερη διαφορά από την out of the box εκδοχή του. Ο ταξινομητής αυτός παρουσίαζε τις περισσότερες παραμέτρους, συνεπώς εξετάστηκε για ένα ευρή πεδίο ορισμού αυτών καταλήγοντας στο βέλτιστο δυνδυασμό παραμέτρων που άγγιξε accuracy 82.2%"
   ]
  },
  {
   "cell_type": "code",
   "execution_count": 49,
   "metadata": {},
   "outputs": [
    {
     "data": {
      "image/png": "[encoded data removed]",
      "text/plain": [
       "<Figure size 432x288 with 2 Axes>"
      ]
     },
     "metadata": {
      "needs_background": "light"
     },
     "output_type": "display_data"
    },
    {
     "data": {
      "image/png": "[encoded data removed]",
      "text/plain": [
       "<Figure size 432x288 with 2 Axes>"
      ]
     },
     "metadata": {
      "needs_background": "light"
     },
     "output_type": "display_data"
    }
   ],
   "source": [
    "from sklearn.metrics import confusion_matrix, plot_confusion_matrix\n",
    "import matplotlib.pyplot as plt \n",
    "\n",
    "#worst classifier: Logistic Regression\n",
    "y1_pred = best_logistic.predict(X_test)\n",
    "M1 = confusion_matrix(y_test, y1_pred)\n",
    "plot_confusion_matrix(best_logistic, X_test, y_test)\n",
    "plt.title(\"Logistic Regression\")\n",
    "plt.show()\n",
    "\n",
    "#best classifier (except from dummy):\n",
    "y2_pred = best_neighbors.predict(X_test)\n",
    "M2 = confusion_matrix(y_test, y2_pred)\n",
    "plot_confusion_matrix(best_neighbors, X_test, y_test)\n",
    "plt.title(\"K Neighbors\")\n",
    "plt.show()"
   ]
  },
  {
   "cell_type": "markdown",
   "metadata": {},
   "source": [
    "Εξετάζοντας τα παραπάνω διαγράμματα διαπιστώνουμε πως ο ταξινομητης Logistic Regression προβλέπει λάθος μόλις 28 δείγματα του τέστ set, εν αντιθέσει του K Neighbors ο οποίος προβλέπει λάθος στο σύνολο 22 δείγματα.\n",
    "<br>\n",
    "Κατά συνέπεια, ο καλύτερος ταξινομητής για το συγκεκριμένο πρόβλημα είναι ο K Neighbors. Ο Logistic Regression μπορεί να έχει  περισσότερες παραμέτερους οι οποίοι του δίνουν τη δυνατότητα να σημειώσει υψηλότερα score σε κάθε μετρική, ωστόσο αυτό δεν εγγυάται ότι θα σημειώσει τη βέλτιστη επίδοση."
   ]
  },
  {
   "cell_type": "markdown",
   "metadata": {},
   "source": [
    "### Μέρος 2. Kaggle dataset"
   ]
  },
  {
   "cell_type": "markdown",
   "metadata": {},
   "source": [
    "### Επισκόπηση"
   ]
  },
  {
   "cell_type": "markdown",
   "metadata": {},
   "source": [
    "- Το dataset Dry-Bean, περιέχει 13,611 δείγματα φασολιών, 7 διαφορετικών κατηγοριών, 7 το σύνολο δηλαδή κλάσεων, για τα οποία λαμβάνουμε μετρήσεις για 16 διαφορετικά στοιχεία (16 features). Tα δείγματα των φασολιών είναι 12διάστατα με 4 shape forms. Στόχος είναι η βέλτιστη κατηγοριοποίηση των δειγμάτων των φασολιών, στις 7 κατηγορίες με την χρήση των ταξινομητών:\n",
    "<br>\n",
    "    - Multi-Layer Perceptron (MLP) \n",
    "<br>\n",
    "    - Support Vector Machines (SVM)."
   ]
  },
  {
   "cell_type": "markdown",
   "metadata": {},
   "source": [
    "- Σε κάθε στήλη εμφανίζεται ως τίτλος το όνομα του χαρακτηριστικού. Οι γραμμές δεν ειναι αριθμημένες."
   ]
  },
  {
   "cell_type": "markdown",
   "metadata": {},
   "source": [
    "- Οι ετικέτες των κλάσεων αποτυπώνονται ως strings με τα ονόματα των φασολιών και βρίσκονται στην τελευταία κολώνα με τίτλο consensus. Φροντίζουμε να μετατρέψουμε το κάθε string σε ένα ξεχωριστό αριθμό από το 0 έως και το 6."
   ]
  },
  {
   "cell_type": "markdown",
   "metadata": {},
   "source": [
    "- Ούτε στο δεδομένο dataset υπάρχουν απουσιάζουσες τιμές. Παρακάτω, βάσει των περιγραφών του Kaggle, καθώς και τους δεδομένους βοηθητικούς κώδικες, κατανοούμε καλύτερα το dataset."
   ]
  },
  {
   "cell_type": "code",
   "execution_count": 52,
   "metadata": {},
   "outputs": [],
   "source": [
    "import numpy as np # linear algebra\n",
    "import pandas as pd # data processing, CSV file I/O (e.g. pd.read_csv)\n",
    "import os\n",
    "for dirname, _, filenames in os.walk('/kaggle/input'):\n",
    "    for filename in filenames:\n",
    "        print(os.path.join(dirname, filename))"
   ]
  },
  {
   "cell_type": "code",
   "execution_count": 53,
   "metadata": {},
   "outputs": [],
   "source": [
    "SOURCE = \"Dry_Bean.csv\"\n",
    "CLASSES = np.array([\"SEKER\",\"BARBUNYA\",\"BOMBAY\",\"CALI\",\"DERMASON\",\"HOROZ\",\"SIRA\"])\n",
    "data = pd.read_csv(SOURCE)"
   ]
  },
  {
   "cell_type": "code",
   "execution_count": 4,
   "metadata": {},
   "outputs": [
    {
     "data": {
      "text/html": [
       "<div>\n",
       "<style scoped>\n",
       "    .dataframe tbody tr th:only-of-type {\n",
       "        vertical-align: middle;\n",
       "    }\n",
       "\n",
       "    .dataframe tbody tr th {\n",
       "        vertical-align: top;\n",
       "    }\n",
       "\n",
       "    .dataframe thead th {\n",
       "        text-align: right;\n",
       "    }\n",
       "</style>\n",
       "<table border=\"1\" class=\"dataframe\">\n",
       "  <thead>\n",
       "    <tr style=\"text-align: right;\">\n",
       "      <th></th>\n",
       "      <th>Area</th>\n",
       "      <th>Perimeter</th>\n",
       "      <th>MajorAxisLength</th>\n",
       "      <th>MinorAxisLength</th>\n",
       "      <th>AspectRation</th>\n",
       "      <th>Eccentricity</th>\n",
       "      <th>ConvexArea</th>\n",
       "      <th>EquivDiameter</th>\n",
       "      <th>Extent</th>\n",
       "      <th>Solidity</th>\n",
       "      <th>roundness</th>\n",
       "      <th>Compactness</th>\n",
       "      <th>ShapeFactor1</th>\n",
       "      <th>ShapeFactor2</th>\n",
       "      <th>ShapeFactor3</th>\n",
       "      <th>ShapeFactor4</th>\n",
       "      <th>Class</th>\n",
       "    </tr>\n",
       "  </thead>\n",
       "  <tbody>\n",
       "    <tr>\n",
       "      <th>0</th>\n",
       "      <td>28395</td>\n",
       "      <td>610.291</td>\n",
       "      <td>208.178117</td>\n",
       "      <td>173.888747</td>\n",
       "      <td>1.197191</td>\n",
       "      <td>0.549812</td>\n",
       "      <td>28715</td>\n",
       "      <td>190.141097</td>\n",
       "      <td>0.763923</td>\n",
       "      <td>0.988856</td>\n",
       "      <td>0.958027</td>\n",
       "      <td>0.913358</td>\n",
       "      <td>0.007332</td>\n",
       "      <td>0.003147</td>\n",
       "      <td>0.834222</td>\n",
       "      <td>0.998724</td>\n",
       "      <td>SEKER</td>\n",
       "    </tr>\n",
       "    <tr>\n",
       "      <th>1</th>\n",
       "      <td>28734</td>\n",
       "      <td>638.018</td>\n",
       "      <td>200.524796</td>\n",
       "      <td>182.734419</td>\n",
       "      <td>1.097356</td>\n",
       "      <td>0.411785</td>\n",
       "      <td>29172</td>\n",
       "      <td>191.272751</td>\n",
       "      <td>0.783968</td>\n",
       "      <td>0.984986</td>\n",
       "      <td>0.887034</td>\n",
       "      <td>0.953861</td>\n",
       "      <td>0.006979</td>\n",
       "      <td>0.003564</td>\n",
       "      <td>0.909851</td>\n",
       "      <td>0.998430</td>\n",
       "      <td>SEKER</td>\n",
       "    </tr>\n",
       "    <tr>\n",
       "      <th>2</th>\n",
       "      <td>29380</td>\n",
       "      <td>624.110</td>\n",
       "      <td>212.826130</td>\n",
       "      <td>175.931143</td>\n",
       "      <td>1.209713</td>\n",
       "      <td>0.562727</td>\n",
       "      <td>29690</td>\n",
       "      <td>193.410904</td>\n",
       "      <td>0.778113</td>\n",
       "      <td>0.989559</td>\n",
       "      <td>0.947849</td>\n",
       "      <td>0.908774</td>\n",
       "      <td>0.007244</td>\n",
       "      <td>0.003048</td>\n",
       "      <td>0.825871</td>\n",
       "      <td>0.999066</td>\n",
       "      <td>SEKER</td>\n",
       "    </tr>\n",
       "    <tr>\n",
       "      <th>3</th>\n",
       "      <td>30008</td>\n",
       "      <td>645.884</td>\n",
       "      <td>210.557999</td>\n",
       "      <td>182.516516</td>\n",
       "      <td>1.153638</td>\n",
       "      <td>0.498616</td>\n",
       "      <td>30724</td>\n",
       "      <td>195.467062</td>\n",
       "      <td>0.782681</td>\n",
       "      <td>0.976696</td>\n",
       "      <td>0.903936</td>\n",
       "      <td>0.928329</td>\n",
       "      <td>0.007017</td>\n",
       "      <td>0.003215</td>\n",
       "      <td>0.861794</td>\n",
       "      <td>0.994199</td>\n",
       "      <td>SEKER</td>\n",
       "    </tr>\n",
       "    <tr>\n",
       "      <th>4</th>\n",
       "      <td>30140</td>\n",
       "      <td>620.134</td>\n",
       "      <td>201.847882</td>\n",
       "      <td>190.279279</td>\n",
       "      <td>1.060798</td>\n",
       "      <td>0.333680</td>\n",
       "      <td>30417</td>\n",
       "      <td>195.896503</td>\n",
       "      <td>0.773098</td>\n",
       "      <td>0.990893</td>\n",
       "      <td>0.984877</td>\n",
       "      <td>0.970516</td>\n",
       "      <td>0.006697</td>\n",
       "      <td>0.003665</td>\n",
       "      <td>0.941900</td>\n",
       "      <td>0.999166</td>\n",
       "      <td>SEKER</td>\n",
       "    </tr>\n",
       "  </tbody>\n",
       "</table>\n",
       "</div>"
      ],
      "text/plain": [
       "    Area  Perimeter  MajorAxisLength  MinorAxisLength  AspectRation  \\\n",
       "0  28395    610.291       208.178117       173.888747      1.197191   \n",
       "1  28734    638.018       200.524796       182.734419      1.097356   \n",
       "2  29380    624.110       212.826130       175.931143      1.209713   \n",
       "3  30008    645.884       210.557999       182.516516      1.153638   \n",
       "4  30140    620.134       201.847882       190.279279      1.060798   \n",
       "\n",
       "   Eccentricity  ConvexArea  EquivDiameter    Extent  Solidity  roundness  \\\n",
       "0      0.549812       28715     190.141097  0.763923  0.988856   0.958027   \n",
       "1      0.411785       29172     191.272751  0.783968  0.984986   0.887034   \n",
       "2      0.562727       29690     193.410904  0.778113  0.989559   0.947849   \n",
       "3      0.498616       30724     195.467062  0.782681  0.976696   0.903936   \n",
       "4      0.333680       30417     195.896503  0.773098  0.990893   0.984877   \n",
       "\n",
       "   Compactness  ShapeFactor1  ShapeFactor2  ShapeFactor3  ShapeFactor4  Class  \n",
       "0     0.913358      0.007332      0.003147      0.834222      0.998724  SEKER  \n",
       "1     0.953861      0.006979      0.003564      0.909851      0.998430  SEKER  \n",
       "2     0.908774      0.007244      0.003048      0.825871      0.999066  SEKER  \n",
       "3     0.928329      0.007017      0.003215      0.861794      0.994199  SEKER  \n",
       "4     0.970516      0.006697      0.003665      0.941900      0.999166  SEKER  "
      ]
     },
     "execution_count": 4,
     "metadata": {},
     "output_type": "execute_result"
    }
   ],
   "source": [
    "#Display first 5 lines of the Dataset\n",
    "data.head()"
   ]
  },
  {
   "cell_type": "code",
   "execution_count": 5,
   "metadata": {},
   "outputs": [
    {
     "name": "stdout",
     "output_type": "stream",
     "text": [
      "There are 2027 instances for class: SEKER\n",
      "There are 1322 instances for class: BARBUNYA\n",
      "There are 522 instances for class: BOMBAY\n",
      "There are 1630 instances for class: CALI\n",
      "There are 3546 instances for class: DERMASON\n",
      "There are 1928 instances for class: HOROZ\n",
      "There are 2636 instances for class: SIRA\n",
      "\n",
      "The class of beans with the least amount of instances is: BOMBAY\n"
     ]
    }
   ],
   "source": [
    "def findInstances(beans,classes):\n",
    "    instanceCount = dict()\n",
    "    for beanClass in CLASSES:\n",
    "        numinstances = beans.Class.value_counts()[beanClass]\n",
    "        instanceCount[beanClass] = numinstances\n",
    "        print(f\"There are {numinstances} instances for class: {beanClass}\")\n",
    "\n",
    "    minInstance = min(instanceCount, key=instanceCount.get)\n",
    "\n",
    "    print(f\"\\nThe class of beans with the least amount of instances is: {minInstance}\")\n",
    "    \n",
    "    \n",
    "findInstances(data,CLASSES)"
   ]
  },
  {
   "cell_type": "markdown",
   "metadata": {},
   "source": [
    "### Μετρικές"
   ]
  },
  {
   "cell_type": "markdown",
   "metadata": {},
   "source": [
    "Είθισται η μετρική accuracy να χρησιμοποιείται όταν το dataset περιέχει περίπου ίσο αριθμό δειγμάτων για κάθε κατηγορία, ενώ αποφεύγεται όταν μία κλάση έχει σημαντικά περισσότερα δείγματα από τις υπόλοιπες. \n",
    "<br>\n",
    "Από την άλλη, η μετρική f1-score χρησιμοποιείται όταν οι False Negatives και False Positives προβλέψεις είναι αρκετές και όταν τα δείγματα κάθε κλάσης δεν είναι ισοκατανεμημένα.\n",
    "<br>\n",
    "Από τα παραπάνω αποτελέσματα διαπιστώνουμε ότι η κλάση DERMASON έχει σημαντικά περισσότερα δείγματα από τις υπόλοιπες 6, ενώ η κλάση BOMBAY διαθέτει τα λιγότερα δείγματα. \n",
    "<br>\n",
    "Οι μετρικές που θα επιλέξουμε είναι accuracy και f1-score, προκειμένου να καταλήξουμε στις παραπάνω διαπιστώσεις."
   ]
  },
  {
   "cell_type": "markdown",
   "metadata": {},
   "source": [
    "### Train-test split και σχήμα CV"
   ]
  },
  {
   "cell_type": "markdown",
   "metadata": {},
   "source": [
    "Παρακάτω, χωρίζουμε τα δεδομένα μας σε train και test, ενώ συμβολίζουμε την κάθε κλάση με έναν αριθμό από το 0 μέχρι και το 6. Και σε αυτό το dataset, για την αξιολόγηση χρησιμοποιούμε το σχήμα διασταυρούμενης επικύρωσης, επιλέγοντας το 20% των δεδομένων να αποτελεί το test set. \n",
    "<br>\n",
    "Eπιλέγουμε αυτό το ποσοστό διαμοιρασμού, καθώς πλέον οι κλάσεις μας είναι αρκετές και προκειμένου το μοντέλο μας να εκπαιδευτεί καλά σε κάθε μία από αυτές, απαιτούνται περισσότερα δείγματα εκπαίδευσης. Με αυτόν τον τρόπο, το μοντέλο μας αποκτά τη δυνατότητα της γενίκευσης.\n",
    "<br>\n",
    "Eπιπλέον, εφαρμόζουμε StandardScaler στα δεδομένα μας, αφαιρούμε δηλαδή από το χαρακτηριστικό τον μέσο όρο του και κάνουμε scaling κάθε χαρακτηριστικό στην μοναδιαία διακύμανση για την επίτευξη καλύτερων προβλέψεων."
   ]
  },
  {
   "cell_type": "code",
   "execution_count": 54,
   "metadata": {},
   "outputs": [],
   "source": [
    "from sklearn.model_selection import train_test_split#Preprocessing Data for Training\n",
    "from sklearn.preprocessing import StandardScaler\n",
    "\n",
    "# Using train_test_split \n",
    "dataAttributes = data.drop(\"Class\",axis=1)\n",
    "dataClasses = data[[\"Class\"]]\n",
    "\n",
    "#print(data.head())\n",
    "# setting random_state to 0 for reproducable results\n",
    "x_train, x_test, y_train, y_test = train_test_split(dataAttributes,dataClasses, test_size = 0.2, train_size=0.8, random_state=0)\n",
    "\n",
    "# Implementing StandardScaler feature scaling\n",
    "X_train = StandardScaler().fit_transform(x_train)\n",
    "X_test = StandardScaler().fit_transform(x_test)\n",
    "\n",
    "#give number to each class\n",
    "d = dict(zip(CLASSES, range(0,7)))\n",
    "y_test = y_test['Class'].map(d, na_action='ignore')\n",
    "y_train = y_train['Class'].map(d, na_action='ignore')\n",
    "\n",
    "y_train =  np.ravel(y_train)\n",
    "y_test = np.ravel(y_test)\n",
    "\n",
    "X = np.append(X_train, X_test).reshape(13611,16)\n",
    "y = np.append(y_train, y_test)\n"
   ]
  },
  {
   "cell_type": "markdown",
   "metadata": {},
   "source": [
    "### Επίδοση out-of-the-box\n"
   ]
  },
  {
   "cell_type": "code",
   "execution_count": 55,
   "metadata": {},
   "outputs": [],
   "source": [
    "def perform_cross_val(classifier, X, y):\n",
    "    \n",
    "    acc = cross_val_score(classifier, X, y, cv=10)\n",
    "    f1 = cross_val_score(classifier, X, y, cv=10 , scoring='f1_weighted')\n",
    "    print(\"The mean accuracy for \"+ str(classifier)[:-2]+\" is: \", acc.mean(), \"\\n\", \"The F1-score for \"+ str(classifier)[:-2]+\" is:\", f1.mean(),  '\\n')\n"
   ]
  },
  {
   "cell_type": "code",
   "execution_count": 8,
   "metadata": {},
   "outputs": [
    {
     "name": "stdout",
     "output_type": "stream",
     "text": [
      "The mean accuracy for MLPClassifier is:  0.931667358747907 \n",
      " The F1-score for MLPClassifier is: 0.9316185179559693 \n",
      "\n",
      "The mean accuracy for SVC is:  0.9274430467779398 \n",
      " The F1-score for SVC is: 0.9274685990536279 \n",
      " \n",
      "The mean accuracy for DummyClassifier is:  0.17000528344946791 \n",
      " The F1-score for DummyClassifier is: 0.170905037928529 \n"
     ]
    }
   ],
   "source": [
    "from sklearn.neural_network import MLPClassifier\n",
    "from sklearn.dummy import DummyClassifier\n",
    "from sklearn import svm\n",
    "from sklearn.model_selection import cross_val_score\n",
    "from sklearn.metrics import f1_score\n",
    "import warnings\n",
    "warnings.filterwarnings('ignore')\n",
    "\n",
    "mlp = MLPClassifier()\n",
    "svm = svm.SVC()\n",
    "perform_cross_val(mlp, X_train, y_train)\n",
    "perform_cross_val(svm, X_train, y_train)\n",
    "dummy = DummyClassifier()\n",
    "perform_cross_val(dummy, X_train, y_train)"
   ]
  },
  {
   "cell_type": "markdown",
   "metadata": {},
   "source": [
    "1."
   ]
  },
  {
   "cell_type": "markdown",
   "metadata": {},
   "source": [
    "| Classifier | Accuracy | F1-score |\n",
    "| --- | --- | --- |\n",
    "| Dummy | 0.1673 |0.1736 |\n",
    "| --- | --- | --- |\n",
    "| MLP | 0.9317 | 0.9316 |\n",
    "| --- | --- | --- |\n",
    "| SVM |0.9274| 0.9275 |"
   ]
  },
  {
   "cell_type": "markdown",
   "metadata": {},
   "source": [
    "2."
   ]
  },
  {
   "cell_type": "code",
   "execution_count": 9,
   "metadata": {},
   "outputs": [
    {
     "data": {
      "image/png": "[encoded data removed]",
      "text/plain": [
       "<Figure size 1080x360 with 2 Axes>"
      ]
     },
     "metadata": {
      "needs_background": "light"
     },
     "output_type": "display_data"
    }
   ],
   "source": [
    "import matplotlib.pyplot as plt\n",
    " \n",
    "res = {'Dummy':(0.1673, 0.1736), 'MLP':(0.9317, 0.9316), 'SVM':(0.9274, 0.9275)}\n",
    "\n",
    "\n",
    "classifiers = list(res.keys())\n",
    "values = np.array(list(res.values()))\n",
    "f1score = values[:,1]   \n",
    "accur =  values[:,0]\n",
    "\n",
    "#print(f1score, accur)\n",
    "\n",
    "fig, (ax1, ax2) = plt.subplots(1, 2, figsize = (15, 5))\n",
    "ax1.set_title('Accuracy')\n",
    "ax1.bar(classifiers, accur, color ='paleturquoise', width = 0.4)\n",
    "ax2.set_title('F1-score')\n",
    "ax2.bar(classifiers, f1score, color ='khaki',width = 0.4)\n",
    "\n",
    "plt.show()"
   ]
  },
  {
   "cell_type": "markdown",
   "metadata": {},
   "source": [
    "O Dummy Classifier αποδίδει πενιχρά και στις 2 μερτρικές. Πλέον, το dataset είναι σημαντικά μεγαλύτερο από αυτό του UCI και τα προβλήματα πιο σύνθετα (από binary classification μεταβήκαμε σε 7 διαφορετικές κλάσεις). Ο Dummy Classifier δεν χρησιμοποιείται σε πραγματικά προβλήματα. Τον αξιοποιούμε αποκλειστικά ως baseline, συγκρίνοντας την επίδοσή του με πραγματικούς classifiers.\n",
    "<br>\n",
    "Tοσο ο SVM όσο και ο MLP αποδίδουν άριστα στο dataset, με τον MLP να σημειώνει ελάχιστα καλύτερες επιδόσεις. Αυτό οφείλεται στην πληθώρα υπερπαραμέτρων που διαθέτει ο MLP καθιστώντας τον ιδιαίτερα πιο σύνθετο και χρονοβόρο στην εξαγωγή αποτελεσμάτων.\n",
    "<br>\n",
    "Tέλος, οι επιδόσεις και στις δύο μετρικές διαφέρουν ελάχιστα (τέταρτο δεκαδικό ψηφίο)."
   ]
  },
  {
   "cell_type": "markdown",
   "metadata": {},
   "source": [
    "### Bελτιστοποίηση"
   ]
  },
  {
   "cell_type": "markdown",
   "metadata": {},
   "source": [
    "- Προεπεξεργασία"
   ]
  },
  {
   "cell_type": "code",
   "execution_count": 10,
   "metadata": {},
   "outputs": [],
   "source": [
    "from sklearn.feature_selection import VarianceThreshold\n",
    "from sklearn import preprocessing\n",
    "from imblearn.over_sampling import RandomOverSampler\n",
    "from sklearn.preprocessing import MultiLabelBinarizer\n",
    "from sklearn.decomposition import PCA\n",
    "from sklearn.metrics import classification_report\n",
    "from sklearn.neural_network import MLPClassifier\n",
    "\n",
    "\n",
    "def perform_preprocessing(classifier, X_train,X_test, y_test, y_train):\n",
    "        \n",
    "    selector = VarianceThreshold()\n",
    "    train_reduced = selector.fit_transform(X_train)\n",
    "    test_reduced = selector.transform(X_test)\n",
    "    \n",
    "    scaler = preprocessing.StandardScaler().fit(train_reduced)\n",
    "    train_scaled = scaler.transform(train_reduced)\n",
    "    test_scaled = scaler.transform(test_reduced)\n",
    "\n",
    "    ros = RandomOverSampler()\n",
    "    train_resampled, trainTargets_resampled = ros.fit_resample(train_scaled,y_train)\n",
    "\n",
    "    n = 3\n",
    "    pca = PCA(n_components=n)\n",
    "    trainPCA = pca.fit_transform(train_resampled)\n",
    "    testPCA = pca.transform(test_scaled)\n",
    "    \n",
    "    classifier.fit(trainPCA, trainTargets_resampled)\n",
    "    preds = classifier.predict(testPCA)\n",
    "    print(classification_report(y_test, preds))\n",
    "    acc = cross_val_score(classifier, trainPCA, trainTargets_resampled, cv=10)\n",
    "    f1 = cross_val_score(classifier, trainPCA, trainTargets_resampled, cv=10 , scoring='f1_weighted')\n",
    "    print(\"The mean accuracy for \"+ str(classifier)[:-2]+\" is: \", acc.mean(), \"\\n\", \"The F1-score for \"+ str(classifier)[:-2]+\" is:\", f1.mean(),  '\\n')"
   ]
  },
  {
   "cell_type": "code",
   "execution_count": 11,
   "metadata": {},
   "outputs": [
    {
     "name": "stdout",
     "output_type": "stream",
     "text": [
      "The mean accuracy for MLPClassifier is: 0.9447075423347014 \n",
      " The F1-score for MLPClassifier is: 0.9439206692415949 \n",
      "The mean accuracy for SVC is: 0.8853995912226535\n",
      " The F1-score for SVC is: 0.8854763971388635  \n"
     ]
    }
   ],
   "source": [
    "from sklearn.neural_network import MLPClassifier\n",
    "from sklearn import svm\n",
    "from sklearn.model_selection import cross_val_score\n",
    "from sklearn.metrics import f1_score\n",
    "import warnings\n",
    "warnings.filterwarnings('ignore')\n",
    "\n",
    "mlp = MLPClassifier()\n",
    "svm = svm.SVC(decision_function_shape='ovo', random_state = 0)\n",
    "\n",
    "perform_preprocessing(mlp, X_train,X_test, y_test, y_train)\n",
    "perform_preprocessing(svm, X_train,X_test, y_test, y_train)"
   ]
  },
  {
   "cell_type": "markdown",
   "metadata": {},
   "source": [
    "- Pipelines"
   ]
  },
  {
   "cell_type": "code",
   "execution_count": null,
   "metadata": {},
   "outputs": [],
   "source": [
    "from imblearn.pipeline import Pipeline\n",
    "from sklearn.feature_selection import VarianceThreshold\n",
    "from sklearn.preprocessing import StandardScaler\n",
    "from imblearn.over_sampling import RandomOverSampler\n",
    "from sklearn.decomposition import PCA   \n",
    "\n",
    "def define_pipeline(classifier,X,y):\n",
    "    selector = VarianceThreshold()\n",
    "    scaler = StandardScaler()\n",
    "    ros = RandomOverSampler()\n",
    "    pca = PCA()\n",
    "    pipe = Pipeline(steps=[('selector', selector), ('scaler', scaler), ('sampler', ros), ('pca', pca), ('classifier', classifier)])\n",
    "    \n",
    "    acc = cross_val_score(classifier, X_train, y_train, cv=10) #X_train, y_train\n",
    "    f1 = cross_val_score(classifier, X_train, y_train, cv=10 , scoring='f1_weighted') #X_train, y_train\n",
    "    print(\"The mean accuracy for \"+ str(classifier)[:-2]+\" is: \", acc.mean(), \"\\n\", \"The F1-score for \"+ str(classifier)[:-2]+\" is:\", f1.mean(),  '\\n') \n",
    "    \n",
    "    return selector, scaler, ros, pca, pipe"
   ]
  },
  {
   "cell_type": "code",
   "execution_count": 12,
   "metadata": {},
   "outputs": [
    {
     "name": "stdout",
     "output_type": "stream",
     "text": [
      "The mean accuracy for MLPClassifier is:  0.9276261951061416 \n",
      " The F1-score for MLPClassifier: 0.9273405932532123 \n",
      "\n",
      "The mean accuracy for SVC is:  0.8395482228704154 \n",
      " The F1-score for SVC is: 0.8331446064570285 \n"
     ]
    }
   ],
   "source": [
    "from sklearn.neural_network import MLPClassifier\n",
    "from sklearn import svm\n",
    "from sklearn.model_selection import cross_val_score\n",
    "from sklearn.metrics import f1_score\n",
    "import warnings\n",
    "warnings.filterwarnings('ignore')\n",
    "\n",
    "mlp = MLPClassifier()\n",
    "svm = svm.SVC(decision_function_shape='ovo', random_state = 0)\n",
    "\n",
    "mlp_selector, mlp_scaler, mlp_ros, mlp_pca, _  = define_pipeline(mlp, X_train,y_train)\n",
    "svm_selector, svm_scaler, svm_ros, svm_pca, _ = define_pipeline(svm, X_train,y_train)"
   ]
  },
  {
   "cell_type": "markdown",
   "metadata": {},
   "source": [
    "- Εύρεση βέλτιστων υπερμαραμέτρων με grid search & cross validation"
   ]
  },
  {
   "cell_type": "code",
   "execution_count": 13,
   "metadata": {},
   "outputs": [
    {
     "name": "stdout",
     "output_type": "stream",
     "text": [
      "Best parameters found:\n",
      " {'activation': 'relu', 'alpha': 0.05, 'hidden_layer_sizes': (50, 100, 50), 'learning_rate': 'constant', 'solver': 'adam'}\n"
     ]
    }
   ],
   "source": [
    "from sklearn.neural_network import MLPClassifier\n",
    "from sklearn.model_selection import GridSearchCV\n",
    "import warnings\n",
    "warnings.filterwarnings('ignore')\n",
    "\n",
    "mlp = MLPClassifier()\n",
    "\n",
    "parameter_space = {\n",
    "    'hidden_layer_sizes': [(50,50,50), (50,100,50), (100,)],\n",
    "    'activation': ['tanh', 'relu'],\n",
    "    'solver': ['sgd', 'adam'],\n",
    "    'alpha': [0.0001, 0.05],\n",
    "    'learning_rate': ['constant','adaptive'],\n",
    "}\n",
    "\n",
    "clf = GridSearchCV(mlp, parameter_space, n_jobs=-1, cv=10)\n",
    "clf.fit(X_train, y_train)\n",
    "\n",
    "# Best parameter set\n",
    "print('Best parameters found:\\n', clf.best_params_)"
   ]
  },
  {
   "cell_type": "code",
   "execution_count": 14,
   "metadata": {},
   "outputs": [
    {
     "name": "stdout",
     "output_type": "stream",
     "text": [
      "The mean accuracy for MLP is:  0.930289526278831 \n",
      " The F1-score for MLP is: 0.930598425804598 \n"
     ]
    }
   ],
   "source": [
    "acc = cross_val_score(MLPClassifier(activation = 'relu', alpha = 0.05, hidden_layer_sizes =  (50, 100, 50),learning_rate = 'constant', solver='adam'), X_train, y_train, cv=10) \n",
    "f1 = cross_val_score(MLPClassifier(activation = 'relu', alpha = 0.05, hidden_layer_sizes =  (50, 100, 50),learning_rate = 'constant', solver='adam'), X_train, y_train, cv=10 , scoring='f1_weighted') \n",
    "print(\"The mean accuracy for MLP is: \", acc.mean(), \"\\n\", \"The F1-score for MLP is:\", f1.mean(),  '\\n') "
   ]
  },
  {
   "cell_type": "code",
   "execution_count": 61,
   "metadata": {},
   "outputs": [
    {
     "name": "stdout",
     "output_type": "stream",
     "text": [
      "{'C': 0.1, 'gamma': 0.1, 'kernel': 'rbf'}\n",
      "SVC(C=0.1, gamma=0.1, max_iter=20)\n"
     ]
    }
   ],
   "source": [
    "from sklearn import svm\n",
    "from sklearn.model_selection import GridSearchCV\n",
    "import warnings\n",
    "warnings.filterwarnings('ignore')\n",
    "\n",
    "# defining parameter range\n",
    "param_grid = {'C': [0.1, 1, 10, 100, 1000],\n",
    "              'gamma': [1, 0.1, 0.01, 0.001, 0.0001],\n",
    "              'kernel': ['rbf']}\n",
    " \n",
    "grid = GridSearchCV(svm.SVC(), param_grid, n_jobs=-1, cv=10)\n",
    " \n",
    "# fitting the model for grid search\n",
    "grid.fit(X_train, y_train)\n",
    "\n",
    "# print best parameter after tuning\n",
    "print(grid.best_params_)\n",
    " \n",
    "# print how our model looks after hyper-parameter tuning\n",
    "print(grid.best_estimator_)"
   ]
  },
  {
   "cell_type": "code",
   "execution_count": 16,
   "metadata": {},
   "outputs": [
    {
     "name": "stdout",
     "output_type": "stream",
     "text": [
      "The mean accuracy for SVM is:  0.9530344048776538 \n",
      " The F1-score for SVM is: 0.9731495586552845 \n"
     ]
    }
   ],
   "source": [
    "acc = cross_val_score(svm.SVC(C=0.1, gamma=0.1, kernel='rbf'), X_train, y_train, cv=10) \n",
    "f1 = cross_val_score(svm.SVC(C=0.1, gamma=0.1, kernel='rbf'), X_train, y_train, cv=10 , scoring='f1_weighted') \n",
    "print(\"The mean accuracy for SVM is: \", acc.mean(), \"\\n\", \"The F1-score for SVM is:\", f1.mean(),  '\\n') "
   ]
  },
  {
   "cell_type": "code",
   "execution_count": 58,
   "metadata": {
    "collapsed": true
   },
   "outputs": [
    {
     "name": "stdout",
     "output_type": "stream",
     "text": [
      "Requirement already satisfied: imbalanced-learn in c:\\users\\xrist\\appdata\\local\\programs\\python\\python39-32\\lib\\site-packages (0.8.1)\n",
      "Requirement already satisfied: scikit-learn>=0.24 in c:\\users\\xrist\\appdata\\local\\programs\\python\\python39-32\\lib\\site-packages (from imbalanced-learn) (1.0)\n",
      "Requirement already satisfied: scipy>=0.19.1 in c:\\users\\xrist\\appdata\\local\\programs\\python\\python39-32\\lib\\site-packages (from imbalanced-learn) (1.7.1)\n",
      "Requirement already satisfied: joblib>=0.11 in c:\\users\\xrist\\appdata\\local\\programs\\python\\python39-32\\lib\\site-packages (from imbalanced-learn) (1.1.0)\n",
      "Requirement already satisfied: numpy>=1.13.3 in c:\\users\\xrist\\appdata\\local\\programs\\python\\python39-32\\lib\\site-packages (from imbalanced-learn) (1.19.4)\n",
      "Requirement already satisfied: threadpoolctl>=2.0.0 in c:\\users\\xrist\\appdata\\local\\programs\\python\\python39-32\\lib\\site-packages (from scikit-learn>=0.24->imbalanced-learn) (3.0.0)\n"
     ]
    },
    {
     "name": "stderr",
     "output_type": "stream",
     "text": [
      "WARNING: You are using pip version 20.3.3; however, version 21.3.1 is available.\n",
      "You should consider upgrading via the 'c:\\users\\xrist\\appdata\\local\\programs\\python\\python39-32\\python.exe -m pip install --upgrade pip' command.\n"
     ]
    },
    {
     "name": "stdout",
     "output_type": "stream",
     "text": [
      "Collecting optuna\n",
      "  Using cached optuna-2.10.0-py3-none-any.whl (308 kB)\n",
      "Requirement already satisfied: packaging>=20.0 in c:\\users\\xrist\\appdata\\local\\programs\\python\\python39-32\\lib\\site-packages (from optuna) (20.5)\n",
      "Requirement already satisfied: scipy!=1.4.0 in c:\\users\\xrist\\appdata\\local\\programs\\python\\python39-32\\lib\\site-packages (from optuna) (1.7.1)\n",
      "Requirement already satisfied: numpy in c:\\users\\xrist\\appdata\\local\\programs\\python\\python39-32\\lib\\site-packages (from optuna) (1.19.4)\n",
      "Collecting cmaes>=0.8.2\n",
      "  Using cached cmaes-0.8.2-py3-none-any.whl (15 kB)\n",
      "Requirement already satisfied: pyparsing>=2.0.2 in c:\\users\\xrist\\appdata\\local\\programs\\python\\python39-32\\lib\\site-packages (from packaging>=20.0->optuna) (2.4.7)\n",
      "Collecting sqlalchemy>=1.1.0\n",
      "  Downloading SQLAlchemy-1.4.27-cp39-cp39-win32.whl (1.5 MB)\n",
      "Collecting greenlet!=0.4.17\n",
      "  Downloading greenlet-1.1.2-cp39-cp39-win32.whl (98 kB)\n",
      "Collecting alembic\n",
      "  Using cached alembic-1.7.5-py3-none-any.whl (209 kB)\n",
      "Collecting cliff\n",
      "  Downloading cliff-3.10.0-py3-none-any.whl (80 kB)\n",
      "Collecting autopage>=0.4.0\n",
      "  Using cached autopage-0.4.0-py3-none-any.whl (20 kB)\n",
      "Collecting cmd2>=1.0.0\n",
      "  Downloading cmd2-2.3.2-py3-none-any.whl (149 kB)\n",
      "Requirement already satisfied: wcwidth>=0.1.7 in c:\\users\\xrist\\appdata\\local\\programs\\python\\python39-32\\lib\\site-packages (from cmd2>=1.0.0->cliff->optuna) (0.2.5)\n",
      "Requirement already satisfied: attrs>=16.3.0 in c:\\users\\xrist\\appdata\\local\\programs\\python\\python39-32\\lib\\site-packages (from cmd2>=1.0.0->cliff->optuna) (20.3.0)\n",
      "Collecting pbr!=2.1.0,>=2.0.0\n",
      "  Using cached pbr-5.8.0-py2.py3-none-any.whl (112 kB)\n",
      "Collecting PrettyTable>=0.7.2\n",
      "  Using cached prettytable-2.4.0-py3-none-any.whl (24 kB)\n",
      "Collecting pyperclip>=1.6\n",
      "  Using cached pyperclip-1.8.2.tar.gz (20 kB)\n",
      "Collecting PyYAML\n",
      "  Downloading PyYAML-6.0-cp39-cp39-win32.whl (138 kB)\n",
      "Collecting stevedore>=2.0.1\n",
      "  Using cached stevedore-3.5.0-py3-none-any.whl (49 kB)\n",
      "Collecting colorlog\n",
      "  Using cached colorlog-6.6.0-py2.py3-none-any.whl (11 kB)\n",
      "Requirement already satisfied: colorama in c:\\users\\xrist\\appdata\\local\\programs\\python\\python39-32\\lib\\site-packages (from colorlog->optuna) (0.4.4)\n",
      "Collecting Mako\n",
      "  Using cached Mako-1.1.6-py2.py3-none-any.whl (75 kB)\n",
      "Requirement already satisfied: MarkupSafe>=0.9.2 in c:\\users\\xrist\\appdata\\local\\programs\\python\\python39-32\\lib\\site-packages (from Mako->alembic->optuna) (1.1.1)\n",
      "Collecting pyreadline3\n",
      "  Using cached pyreadline3-3.3-py3-none-any.whl (95 kB)\n",
      "Collecting tqdm\n",
      "  Downloading tqdm-4.62.3-py2.py3-none-any.whl (76 kB)\n",
      "Building wheels for collected packages: pyperclip\n",
      "  Building wheel for pyperclip (setup.py): started\n",
      "  Building wheel for pyperclip (setup.py): finished with status 'done'\n",
      "  Created wheel for pyperclip: filename=pyperclip-1.8.2-py3-none-any.whl size=11112 sha256=79397374e3014c31b377728830dc8fd302d9ad03bd44c6ec2720fd923f139c9a\n",
      "  Stored in directory: c:\\users\\xrist\\appdata\\local\\pip\\cache\\wheels\\0c\\09\\9e\\49e21a6840ef7955b06d47394afef0058f0378c0914e48b8b8\n",
      "Successfully built pyperclip\n",
      "Installing collected packages: pyreadline3, pyperclip, pbr, greenlet, stevedore, sqlalchemy, PyYAML, PrettyTable, Mako, cmd2, autopage, tqdm, colorlog, cmaes, cliff, alembic, optuna\n",
      "Successfully installed Mako-1.1.6 PrettyTable-2.4.0 PyYAML-6.0 alembic-1.7.5 autopage-0.4.0 cliff-3.10.0 cmaes-0.8.2 cmd2-2.3.2 colorlog-6.6.0 greenlet-1.1.2 optuna-2.10.0 pbr-5.8.0 pyperclip-1.8.2 pyreadline3-3.3 sqlalchemy-1.4.27 stevedore-3.5.0 tqdm-4.62.3\n"
     ]
    },
    {
     "name": "stderr",
     "output_type": "stream",
     "text": [
      "WARNING: You are using pip version 20.3.3; however, version 21.3.1 is available.\n",
      "You should consider upgrading via the 'c:\\users\\xrist\\appdata\\local\\programs\\python\\python39-32\\python.exe -m pip install --upgrade pip' command.\n"
     ]
    }
   ],
   "source": [
    "!pip install -U imbalanced-learn\n",
    "!pip install optuna"
   ]
  },
  {
   "cell_type": "code",
   "execution_count": 59,
   "metadata": {},
   "outputs": [],
   "source": [
    "from sklearn.svm import SVC\n",
    "from sklearn import datasets\n",
    "from sklearn.metrics import mean_squared_error\n",
    "from sklearn.neighbors import KNeighborsClassifier\n",
    "from sklearn.model_selection import train_test_split\n",
    "from sklearn.preprocessing import StandardScaler\n",
    "from sklearn.neural_network import MLPClassifier\n",
    "from sklearn import svm\n",
    "\n",
    "def objective(trial):\n",
    "    \n",
    "    \n",
    "    # Load data\n",
    "    dataAttributes = data.drop(\"Class\",axis=1)\n",
    "    dataClasses = data[[\"Class\"]]\n",
    "    \n",
    "    # setting random_state to 0 for reproducable results\n",
    "    x_train, x_test, y_train, y_test = train_test_split(dataAttributes,dataClasses, test_size = 0.2, train_size=0.8, random_state=0)\n",
    "    \n",
    "    \n",
    "    # Implementing StandardScaler feature scaling\n",
    "    X_train = StandardScaler().fit_transform(x_train)\n",
    "    X_test = StandardScaler().fit_transform(x_test)\n",
    "\n",
    "    d = dict(zip(CLASSES, range(0,7)))\n",
    "    y_test = y_test['Class'].map(d, na_action='ignore')\n",
    "    y_train = y_train['Class'].map(d, na_action='ignore')\n",
    "\n",
    "    y_train =  np.ravel(y_train)\n",
    "    y_test = np.ravel(y_test)\n",
    "    \n",
    "    X = np.append(X_train, X_test).reshape(13611,16)\n",
    "    y = np.append(y_train, y_test)\n",
    "\n",
    "    # Sample hyper parameters\n",
    "    classifier_name = trial.suggest_categorical(\"classifier\", [\"MLPClassifier\",\n",
    "                                                               \"SVC\"])\n",
    "    if classifier_name==\"MLPClassifier\":\n",
    "\n",
    "        # Sample hyper parameters\n",
    "        activation = trial.suggest_categorical('activation', [\"identity\", \"logistic\", \"tanh\", \"relu\"])\n",
    "        solver = trial.suggest_categorical(\"solver\", \n",
    "                                              [\"sgd\", \"adam\"])\n",
    "        tol = trial.suggest_int('tol', 1e-8,1e-1, 1e-7)\n",
    "        learning_rate = trial.suggest_categorical('learning_rate', \n",
    "                                           [\"constant\",\"invscaling\"])\n",
    "        # Construct the model\n",
    "        clf = MLPClassifier(activation=activation,\n",
    "                               solver=solver,\n",
    "                               tol=tol,\n",
    "                               learning_rate=learning_rate\n",
    "                               \n",
    "                               )\n",
    "    elif classifier_name==\"SVC\":\n",
    "\n",
    "        # Sample hyper parameters\n",
    "        C = trial.suggest_loguniform('C', 1e-10, 1)\n",
    "        kernel = trial.suggest_categorical('kernel',['poly','rbf','sigmoid'])\n",
    "        degree = trial.suggest_int('degree',1, 50)\n",
    "        gamma = trial.suggest_loguniform('gamma',0.001,10000)\n",
    "\n",
    "        # Construct the model\n",
    "        clf = SVC(C=C, kernel=kernel, degree=degree,gamma=gamma)\n",
    "    \n",
    "    # Train the model\n",
    "    clf.fit(X_train,y_train)\n",
    "\n",
    "    # Evaluate the model\n",
    "    y_pred_test = clf.predict(X_test)\n",
    "    loss = mean_squared_error(y_test,y_pred_test)\n",
    "\n",
    "    print(\"Test Score:\",clf.score(X_test,y_test))\n",
    "    print(\"Train Score:\",clf.score(X_train,y_train))\n",
    "    \n",
    "    print(\"\\n=================\")\n",
    "    return loss"
   ]
  },
  {
   "cell_type": "code",
   "execution_count": 60,
   "metadata": {
    "collapsed": true
   },
   "outputs": [
    {
     "name": "stderr",
     "output_type": "stream",
     "text": [
      "\u001b[32m[I 2021-11-28 04:26:16,810]\u001b[0m A new study created in memory with name: no-name-4af72568-7be0-4795-8786-e1a78705d967\u001b[0m\n",
      "\u001b[32m[I 2021-11-28 04:26:18,720]\u001b[0m Trial 0 finished with value: 1.5600440690414983 and parameters: {'classifier': 'MLPClassifier', 'activation': 'logistic', 'solver': 'sgd', 'tol': 0, 'learning_rate': 'constant'}. Best is trial 0 with value: 1.5600440690414983.\u001b[0m\n"
     ]
    },
    {
     "name": "stdout",
     "output_type": "stream",
     "text": [
      "Test Score: 0.757253029746603\n",
      "Train Score: 0.7341109478324761\n",
      "\n",
      "=================\n"
     ]
    },
    {
     "name": "stderr",
     "output_type": "stream",
     "text": [
      "\u001b[32m[I 2021-11-28 04:26:19,055]\u001b[0m Trial 1 finished with value: 9.473007712082262 and parameters: {'classifier': 'SVC', 'C': 2.0217718263421177e-10, 'kernel': 'poly', 'degree': 22, 'gamma': 1.2029913721913787}. Best is trial 0 with value: 1.5600440690414983.\u001b[0m\n"
     ]
    },
    {
     "name": "stdout",
     "output_type": "stream",
     "text": [
      "Test Score: 0.23466764597869996\n",
      "Train Score: 0.23218221895664953\n",
      "\n",
      "=================\n",
      "Test Score: 0.51120088138083\n"
     ]
    },
    {
     "name": "stderr",
     "output_type": "stream",
     "text": [
      "\u001b[32m[I 2021-11-28 04:26:20,434]\u001b[0m Trial 2 finished with value: 6.514873301505692 and parameters: {'classifier': 'SVC', 'C': 4.9898075934414093e-05, 'kernel': 'sigmoid', 'degree': 17, 'gamma': 0.4536479747508731}. Best is trial 0 with value: 1.5600440690414983.\u001b[0m\n"
     ]
    },
    {
     "name": "stdout",
     "output_type": "stream",
     "text": [
      "Train Score: 0.4829169728141073\n",
      "\n",
      "=================\n",
      "Test Score: 0.5993389643775248\n"
     ]
    },
    {
     "name": "stderr",
     "output_type": "stream",
     "text": [
      "\u001b[32m[I 2021-11-28 04:26:21,745]\u001b[0m Trial 3 finished with value: 6.215938303341902 and parameters: {'classifier': 'SVC', 'C': 0.002182362377366676, 'kernel': 'sigmoid', 'degree': 16, 'gamma': 0.004339229613651419}. Best is trial 0 with value: 1.5600440690414983.\u001b[0m\n"
     ]
    },
    {
     "name": "stdout",
     "output_type": "stream",
     "text": [
      "Train Score: 0.5993754592211609\n",
      "\n",
      "=================\n",
      "Test Score: 0.7858979067205288\n"
     ]
    },
    {
     "name": "stderr",
     "output_type": "stream",
     "text": [
      "\u001b[32m[I 2021-11-28 04:26:22,998]\u001b[0m Trial 4 finished with value: 3.4124127800220347 and parameters: {'classifier': 'SVC', 'C': 0.831244643030328, 'kernel': 'rbf', 'degree': 34, 'gamma': 0.008585066072140638}. Best is trial 0 with value: 1.5600440690414983.\u001b[0m\n"
     ]
    },
    {
     "name": "stdout",
     "output_type": "stream",
     "text": [
      "Train Score: 0.7782880235121235\n",
      "\n",
      "=================\n"
     ]
    },
    {
     "name": "stderr",
     "output_type": "stream",
     "text": [
      "\u001b[32m[I 2021-11-28 04:26:25,347]\u001b[0m Trial 5 finished with value: 2.1226588321704 and parameters: {'classifier': 'MLPClassifier', 'activation': 'relu', 'solver': 'sgd', 'tol': 0, 'learning_rate': 'invscaling'}. Best is trial 0 with value: 1.5600440690414983.\u001b[0m\n"
     ]
    },
    {
     "name": "stdout",
     "output_type": "stream",
     "text": [
      "Test Score: 0.591626882115314\n",
      "Train Score: 0.5870683321087435\n",
      "\n",
      "=================\n"
     ]
    },
    {
     "name": "stderr",
     "output_type": "stream",
     "text": [
      "\u001b[32m[I 2021-11-28 04:26:30,625]\u001b[0m Trial 6 finished with value: 1.8461255967682704 and parameters: {'classifier': 'MLPClassifier', 'activation': 'tanh', 'solver': 'sgd', 'tol': 0, 'learning_rate': 'invscaling'}. Best is trial 0 with value: 1.5600440690414983.\u001b[0m\n"
     ]
    },
    {
     "name": "stdout",
     "output_type": "stream",
     "text": [
      "Test Score: 0.6577304443628351\n",
      "Train Score: 0.6540227773695811\n",
      "\n",
      "=================\n"
     ]
    },
    {
     "name": "stderr",
     "output_type": "stream",
     "text": [
      "\u001b[32m[I 2021-11-28 04:26:33,426]\u001b[0m Trial 7 finished with value: 4.230260741828865 and parameters: {'classifier': 'MLPClassifier', 'activation': 'logistic', 'solver': 'sgd', 'tol': 0, 'learning_rate': 'invscaling'}. Best is trial 0 with value: 1.5600440690414983.\u001b[0m\n"
     ]
    },
    {
     "name": "stdout",
     "output_type": "stream",
     "text": [
      "Test Score: 0.2699228791773779\n",
      "Train Score: 0.2581741366642175\n",
      "\n",
      "=================\n"
     ]
    },
    {
     "name": "stderr",
     "output_type": "stream",
     "text": [
      "\u001b[32m[I 2021-11-28 04:26:34,179]\u001b[0m Trial 8 finished with value: 9.302240176276166 and parameters: {'classifier': 'SVC', 'C': 1.5223541088614474e-09, 'kernel': 'poly', 'degree': 28, 'gamma': 0.001982518830080877}. Best is trial 0 with value: 1.5600440690414983.\u001b[0m\n"
     ]
    },
    {
     "name": "stdout",
     "output_type": "stream",
     "text": [
      "Test Score: 0.204186558942343\n",
      "Train Score: 0.22446730345334312\n",
      "\n",
      "=================\n"
     ]
    },
    {
     "name": "stderr",
     "output_type": "stream",
     "text": [
      "\u001b[32m[I 2021-11-28 04:26:36,943]\u001b[0m Trial 9 finished with value: 0.6426735218508998 and parameters: {'classifier': 'MLPClassifier', 'activation': 'logistic', 'solver': 'adam', 'tol': 0, 'learning_rate': 'invscaling'}. Best is trial 9 with value: 0.6426735218508998.\u001b[0m\n"
     ]
    },
    {
     "name": "stdout",
     "output_type": "stream",
     "text": [
      "Test Score: 0.9236136614028645\n",
      "Train Score: 0.9212894930198383\n",
      "\n",
      "=================\n"
     ]
    },
    {
     "name": "stderr",
     "output_type": "stream",
     "text": [
      "\u001b[32m[I 2021-11-28 04:26:40,524]\u001b[0m Trial 10 finished with value: 0.6827029012118987 and parameters: {'classifier': 'MLPClassifier', 'activation': 'identity', 'solver': 'adam', 'tol': 0, 'learning_rate': 'constant'}. Best is trial 9 with value: 0.6426735218508998.\u001b[0m\n"
     ]
    },
    {
     "name": "stdout",
     "output_type": "stream",
     "text": [
      "Test Score: 0.9254498714652957\n",
      "Train Score: 0.922850844966936\n",
      "\n",
      "=================\n"
     ]
    },
    {
     "name": "stderr",
     "output_type": "stream",
     "text": [
      "\u001b[32m[I 2021-11-28 04:26:42,436]\u001b[0m Trial 11 finished with value: 0.6529562982005142 and parameters: {'classifier': 'MLPClassifier', 'activation': 'identity', 'solver': 'adam', 'tol': 0, 'learning_rate': 'constant'}. Best is trial 9 with value: 0.6426735218508998.\u001b[0m\n"
     ]
    },
    {
     "name": "stdout",
     "output_type": "stream",
     "text": [
      "Test Score: 0.922879177377892\n",
      "Train Score: 0.9216568699485672\n",
      "\n",
      "=================\n"
     ]
    },
    {
     "name": "stderr",
     "output_type": "stream",
     "text": [
      "\u001b[32m[I 2021-11-28 04:26:44,320]\u001b[0m Trial 12 finished with value: 0.6966580976863753 and parameters: {'classifier': 'MLPClassifier', 'activation': 'identity', 'solver': 'adam', 'tol': 0, 'learning_rate': 'constant'}. Best is trial 9 with value: 0.6426735218508998.\u001b[0m\n"
     ]
    },
    {
     "name": "stdout",
     "output_type": "stream",
     "text": [
      "Test Score: 0.9236136614028645\n",
      "Train Score: 0.9225753122703895\n",
      "\n",
      "=================\n"
     ]
    },
    {
     "name": "stderr",
     "output_type": "stream",
     "text": [
      "\u001b[32m[I 2021-11-28 04:26:46,191]\u001b[0m Trial 13 finished with value: 0.6599338964377525 and parameters: {'classifier': 'MLPClassifier', 'activation': 'identity', 'solver': 'adam', 'tol': 0, 'learning_rate': 'constant'}. Best is trial 9 with value: 0.6426735218508998.\u001b[0m\n"
     ]
    },
    {
     "name": "stdout",
     "output_type": "stream",
     "text": [
      "Test Score: 0.9225119353654058\n",
      "Train Score: 0.9226671565025716\n",
      "\n",
      "=================\n"
     ]
    },
    {
     "name": "stderr",
     "output_type": "stream",
     "text": [
      "\u001b[32m[I 2021-11-28 04:26:47,985]\u001b[0m Trial 14 finished with value: 0.663973558575101 and parameters: {'classifier': 'MLPClassifier', 'activation': 'logistic', 'solver': 'adam', 'tol': 0, 'learning_rate': 'invscaling'}. Best is trial 9 with value: 0.6426735218508998.\u001b[0m\n"
     ]
    },
    {
     "name": "stdout",
     "output_type": "stream",
     "text": [
      "Test Score: 0.922879177377892\n",
      "Train Score: 0.919911829537105\n",
      "\n",
      "=================\n"
     ]
    },
    {
     "name": "stderr",
     "output_type": "stream",
     "text": [
      "\u001b[32m[I 2021-11-28 04:26:49,908]\u001b[0m Trial 15 finished with value: 0.5277267719427102 and parameters: {'classifier': 'MLPClassifier', 'activation': 'relu', 'solver': 'adam', 'tol': 0, 'learning_rate': 'constant'}. Best is trial 15 with value: 0.5277267719427102.\u001b[0m\n"
     ]
    },
    {
     "name": "stdout",
     "output_type": "stream",
     "text": [
      "Test Score: 0.9327947117150202\n",
      "Train Score: 0.9284533431300515\n",
      "\n",
      "=================\n"
     ]
    },
    {
     "name": "stderr",
     "output_type": "stream",
     "text": [
      "\u001b[32m[I 2021-11-28 04:26:53,441]\u001b[0m Trial 16 finished with value: 0.5501285347043702 and parameters: {'classifier': 'MLPClassifier', 'activation': 'relu', 'solver': 'adam', 'tol': 0, 'learning_rate': 'invscaling'}. Best is trial 15 with value: 0.5277267719427102.\u001b[0m\n"
     ]
    },
    {
     "name": "stdout",
     "output_type": "stream",
     "text": [
      "Test Score: 0.9309585016525891\n",
      "Train Score: 0.9275349008082292\n",
      "\n",
      "=================\n"
     ]
    },
    {
     "name": "stderr",
     "output_type": "stream",
     "text": [
      "\u001b[32m[I 2021-11-28 04:26:58,399]\u001b[0m Trial 17 finished with value: 0.6323907455012854 and parameters: {'classifier': 'MLPClassifier', 'activation': 'relu', 'solver': 'adam', 'tol': 0, 'learning_rate': 'invscaling'}. Best is trial 15 with value: 0.5277267719427102.\u001b[0m\n"
     ]
    },
    {
     "name": "stdout",
     "output_type": "stream",
     "text": [
      "Test Score: 0.9291222915901579\n",
      "Train Score: 0.9279022777369581\n",
      "\n",
      "=================\n"
     ]
    },
    {
     "name": "stderr",
     "output_type": "stream",
     "text": [
      "\u001b[32m[I 2021-11-28 04:27:02,142]\u001b[0m Trial 18 finished with value: 0.5339698861549761 and parameters: {'classifier': 'MLPClassifier', 'activation': 'relu', 'solver': 'adam', 'tol': 0, 'learning_rate': 'constant'}. Best is trial 15 with value: 0.5277267719427102.\u001b[0m\n"
     ]
    },
    {
     "name": "stdout",
     "output_type": "stream",
     "text": [
      "Test Score: 0.9331619537275064\n",
      "Train Score: 0.9279941219691403\n",
      "\n",
      "=================\n"
     ]
    },
    {
     "name": "stderr",
     "output_type": "stream",
     "text": [
      "\u001b[32m[I 2021-11-28 04:27:06,516]\u001b[0m Trial 19 finished with value: 0.5464561145795079 and parameters: {'classifier': 'MLPClassifier', 'activation': 'relu', 'solver': 'adam', 'tol': 0, 'learning_rate': 'constant'}. Best is trial 15 with value: 0.5277267719427102.\u001b[0m\n"
     ]
    },
    {
     "name": "stdout",
     "output_type": "stream",
     "text": [
      "Test Score: 0.9353654058024238\n",
      "Train Score: 0.9272593681116826\n",
      "\n",
      "=================\n"
     ]
    },
    {
     "name": "stderr",
     "output_type": "stream",
     "text": [
      "\u001b[32m[I 2021-11-28 04:27:11,166]\u001b[0m Trial 20 finished with value: 0.5398457583547558 and parameters: {'classifier': 'MLPClassifier', 'activation': 'relu', 'solver': 'adam', 'tol': 0, 'learning_rate': 'constant'}. Best is trial 15 with value: 0.5277267719427102.\u001b[0m\n"
     ]
    },
    {
     "name": "stdout",
     "output_type": "stream",
     "text": [
      "Test Score: 0.9309585016525891\n",
      "Train Score: 0.9271675238795004\n",
      "\n",
      "=================\n"
     ]
    },
    {
     "name": "stderr",
     "output_type": "stream",
     "text": [
      "\u001b[32m[I 2021-11-28 04:27:15,868]\u001b[0m Trial 21 finished with value: 0.5975027543150937 and parameters: {'classifier': 'MLPClassifier', 'activation': 'relu', 'solver': 'adam', 'tol': 0, 'learning_rate': 'constant'}. Best is trial 15 with value: 0.5277267719427102.\u001b[0m\n"
     ]
    },
    {
     "name": "stdout",
     "output_type": "stream",
     "text": [
      "Test Score: 0.9294895336026442\n",
      "Train Score: 0.9279941219691403\n",
      "\n",
      "=================\n"
     ]
    },
    {
     "name": "stderr",
     "output_type": "stream",
     "text": [
      "\u001b[32m[I 2021-11-28 04:27:20,139]\u001b[0m Trial 22 finished with value: 0.5317664340800587 and parameters: {'classifier': 'MLPClassifier', 'activation': 'relu', 'solver': 'adam', 'tol': 0, 'learning_rate': 'constant'}. Best is trial 15 with value: 0.5277267719427102.\u001b[0m\n"
     ]
    },
    {
     "name": "stdout",
     "output_type": "stream",
     "text": [
      "Test Score: 0.9320602276900477\n",
      "Train Score: 0.9267083027185893\n",
      "\n",
      "=================\n"
     ]
    },
    {
     "name": "stderr",
     "output_type": "stream",
     "text": [
      "\u001b[32m[I 2021-11-28 04:27:25,055]\u001b[0m Trial 23 finished with value: 0.5582078589790672 and parameters: {'classifier': 'MLPClassifier', 'activation': 'relu', 'solver': 'adam', 'tol': 0, 'learning_rate': 'constant'}. Best is trial 15 with value: 0.5277267719427102.\u001b[0m\n"
     ]
    },
    {
     "name": "stdout",
     "output_type": "stream",
     "text": [
      "Test Score: 0.9313257436650753\n",
      "Train Score: 0.9275349008082292\n",
      "\n",
      "=================\n"
     ]
    },
    {
     "name": "stderr",
     "output_type": "stream",
     "text": [
      "\u001b[32m[I 2021-11-28 04:27:33,657]\u001b[0m Trial 24 finished with value: 0.6184355490268086 and parameters: {'classifier': 'MLPClassifier', 'activation': 'tanh', 'solver': 'adam', 'tol': 0, 'learning_rate': 'constant'}. Best is trial 15 with value: 0.5277267719427102.\u001b[0m\n"
     ]
    },
    {
     "name": "stdout",
     "output_type": "stream",
     "text": [
      "Test Score: 0.9280205655526992\n",
      "Train Score: 0.9259735488611315\n",
      "\n",
      "=================\n"
     ]
    },
    {
     "name": "stderr",
     "output_type": "stream",
     "text": [
      "\u001b[32m[I 2021-11-28 04:27:36,084]\u001b[0m Trial 25 finished with value: 0.6132941608520015 and parameters: {'classifier': 'MLPClassifier', 'activation': 'relu', 'solver': 'adam', 'tol': 0, 'learning_rate': 'constant'}. Best is trial 15 with value: 0.5277267719427102.\u001b[0m\n"
     ]
    },
    {
     "name": "stdout",
     "output_type": "stream",
     "text": [
      "Test Score: 0.9291222915901579\n",
      "Train Score: 0.927443056576047\n",
      "\n",
      "=================\n"
     ]
    },
    {
     "name": "stderr",
     "output_type": "stream",
     "text": [
      "\u001b[32m[I 2021-11-28 04:27:38,095]\u001b[0m Trial 26 finished with value: 0.6019096584649284 and parameters: {'classifier': 'MLPClassifier', 'activation': 'relu', 'solver': 'adam', 'tol': 0, 'learning_rate': 'constant'}. Best is trial 15 with value: 0.5277267719427102.\u001b[0m\n"
     ]
    },
    {
     "name": "stdout",
     "output_type": "stream",
     "text": [
      "Test Score: 0.9298567756151304\n",
      "Train Score: 0.9278104335047759\n",
      "\n",
      "=================\n",
      "Test Score: 0.23466764597869996\n"
     ]
    },
    {
     "name": "stderr",
     "output_type": "stream",
     "text": [
      "\u001b[32m[I 2021-11-28 04:27:38,652]\u001b[0m Trial 27 finished with value: 9.291590157914065 and parameters: {'classifier': 'SVC', 'C': 1.743285673090127e-07, 'kernel': 'rbf', 'degree': 48, 'gamma': 2931.2909314548842}. Best is trial 15 with value: 0.5277267719427102.\u001b[0m\n"
     ]
    },
    {
     "name": "stdout",
     "output_type": "stream",
     "text": [
      "Train Score: 0.25\n",
      "\n",
      "=================\n"
     ]
    },
    {
     "name": "stderr",
     "output_type": "stream",
     "text": [
      "\u001b[32m[I 2021-11-28 04:27:42,754]\u001b[0m Trial 28 finished with value: 0.7150201983106867 and parameters: {'classifier': 'MLPClassifier', 'activation': 'relu', 'solver': 'sgd', 'tol': 0, 'learning_rate': 'constant'}. Best is trial 15 with value: 0.5277267719427102.\u001b[0m\n"
     ]
    },
    {
     "name": "stdout",
     "output_type": "stream",
     "text": [
      "Test Score: 0.9162688211531399\n",
      "Train Score: 0.9072373254959588\n",
      "\n",
      "=================\n"
     ]
    },
    {
     "name": "stderr",
     "output_type": "stream",
     "text": [
      "\u001b[32m[I 2021-11-28 04:27:51,225]\u001b[0m Trial 29 finished with value: 0.6338597135512303 and parameters: {'classifier': 'MLPClassifier', 'activation': 'tanh', 'solver': 'adam', 'tol': 0, 'learning_rate': 'constant'}. Best is trial 15 with value: 0.5277267719427102.\u001b[0m\n"
     ]
    },
    {
     "name": "stdout",
     "output_type": "stream",
     "text": [
      "Test Score: 0.9287550495776716\n",
      "Train Score: 0.9247795738427627\n",
      "\n",
      "=================\n"
     ]
    },
    {
     "name": "stderr",
     "output_type": "stream",
     "text": [
      "\u001b[32m[I 2021-11-28 04:27:55,362]\u001b[0m Trial 30 finished with value: 0.5993389643775248 and parameters: {'classifier': 'MLPClassifier', 'activation': 'relu', 'solver': 'adam', 'tol': 0, 'learning_rate': 'constant'}. Best is trial 15 with value: 0.5277267719427102.\u001b[0m\n"
     ]
    },
    {
     "name": "stdout",
     "output_type": "stream",
     "text": [
      "Test Score: 0.9302240176276166\n",
      "Train Score: 0.926983835415136\n",
      "\n",
      "=================\n"
     ]
    },
    {
     "name": "stderr",
     "output_type": "stream",
     "text": [
      "\u001b[32m[I 2021-11-28 04:27:57,966]\u001b[0m Trial 31 finished with value: 0.5886889460154242 and parameters: {'classifier': 'MLPClassifier', 'activation': 'relu', 'solver': 'adam', 'tol': 0, 'learning_rate': 'constant'}. Best is trial 15 with value: 0.5277267719427102.\u001b[0m\n"
     ]
    },
    {
     "name": "stdout",
     "output_type": "stream",
     "text": [
      "Test Score: 0.9298567756151304\n",
      "Train Score: 0.926983835415136\n",
      "\n",
      "=================\n"
     ]
    },
    {
     "name": "stderr",
     "output_type": "stream",
     "text": [
      "\u001b[32m[I 2021-11-28 04:28:01,532]\u001b[0m Trial 32 finished with value: 0.6165993389643776 and parameters: {'classifier': 'MLPClassifier', 'activation': 'relu', 'solver': 'adam', 'tol': 0, 'learning_rate': 'constant'}. Best is trial 15 with value: 0.5277267719427102.\u001b[0m\n"
     ]
    },
    {
     "name": "stdout",
     "output_type": "stream",
     "text": [
      "Test Score: 0.9291222915901579\n",
      "Train Score: 0.9279022777369581\n",
      "\n",
      "=================\n"
     ]
    },
    {
     "name": "stderr",
     "output_type": "stream",
     "text": [
      "\u001b[32m[I 2021-11-28 04:28:05,091]\u001b[0m Trial 33 finished with value: 0.6008079324274697 and parameters: {'classifier': 'MLPClassifier', 'activation': 'relu', 'solver': 'adam', 'tol': 0, 'learning_rate': 'constant'}. Best is trial 15 with value: 0.5277267719427102.\u001b[0m\n"
     ]
    },
    {
     "name": "stdout",
     "output_type": "stream",
     "text": [
      "Test Score: 0.9309585016525891\n",
      "Train Score: 0.9275349008082292\n",
      "\n",
      "=================\n"
     ]
    },
    {
     "name": "stderr",
     "output_type": "stream",
     "text": [
      "\u001b[32m[I 2021-11-28 04:28:05,353]\u001b[0m Trial 34 finished with value: 2.3815644509731912 and parameters: {'classifier': 'SVC', 'C': 0.7867511714405819, 'kernel': 'poly', 'degree': 1, 'gamma': 5001.553813763268}. Best is trial 15 with value: 0.5277267719427102.\u001b[0m\n"
     ]
    },
    {
     "name": "stdout",
     "output_type": "stream",
     "text": [
      "Test Score: 0.6636063165626148\n",
      "Train Score: 0.681208670095518\n",
      "\n",
      "=================\n",
      "Test Score: 0.2467866323907455\n"
     ]
    },
    {
     "name": "stderr",
     "output_type": "stream",
     "text": [
      "\u001b[32m[I 2021-11-28 04:28:06,396]\u001b[0m Trial 35 finished with value: 9.070510466397355 and parameters: {'classifier': 'SVC', 'C': 3.676890859047155e-07, 'kernel': 'sigmoid', 'degree': 50, 'gamma': 61.61329676707771}. Best is trial 15 with value: 0.5277267719427102.\u001b[0m\n"
     ]
    },
    {
     "name": "stdout",
     "output_type": "stream",
     "text": [
      "Train Score: 0.24687729610580456\n",
      "\n",
      "=================\n"
     ]
    },
    {
     "name": "stderr",
     "output_type": "stream",
     "text": [
      "\u001b[32m[I 2021-11-28 04:28:08,327]\u001b[0m Trial 36 finished with value: 0.6331252295262578 and parameters: {'classifier': 'MLPClassifier', 'activation': 'relu', 'solver': 'adam', 'tol': 0, 'learning_rate': 'constant'}. Best is trial 15 with value: 0.5277267719427102.\u001b[0m\n"
     ]
    },
    {
     "name": "stdout",
     "output_type": "stream",
     "text": [
      "Test Score: 0.927653323540213\n",
      "Train Score: 0.9278104335047759\n",
      "\n",
      "=================\n"
     ]
    },
    {
     "name": "stderr",
     "output_type": "stream",
     "text": [
      "\u001b[32m[I 2021-11-28 04:28:11,101]\u001b[0m Trial 37 finished with value: 0.5457216305545355 and parameters: {'classifier': 'MLPClassifier', 'activation': 'relu', 'solver': 'adam', 'tol': 0, 'learning_rate': 'constant'}. Best is trial 15 with value: 0.5277267719427102.\u001b[0m\n"
     ]
    },
    {
     "name": "stdout",
     "output_type": "stream",
     "text": [
      "Test Score: 0.9320602276900477\n",
      "Train Score: 0.9265246142542248\n",
      "\n",
      "=================\n",
      "Test Score: 0.4663973558575101\n"
     ]
    },
    {
     "name": "stderr",
     "output_type": "stream",
     "text": [
      "\u001b[32m[I 2021-11-28 04:28:12,241]\u001b[0m Trial 38 finished with value: 4.211531399192068 and parameters: {'classifier': 'SVC', 'C': 0.0007950407945934473, 'kernel': 'rbf', 'degree': 3, 'gamma': 106.24176118498586}. Best is trial 15 with value: 0.5277267719427102.\u001b[0m\n"
     ]
    },
    {
     "name": "stdout",
     "output_type": "stream",
     "text": [
      "Train Score: 0.4670279206465834\n",
      "\n",
      "=================\n"
     ]
    },
    {
     "name": "stderr",
     "output_type": "stream",
     "text": [
      "\u001b[32m[I 2021-11-28 04:28:14,417]\u001b[0m Trial 39 finished with value: 0.6683804627249358 and parameters: {'classifier': 'MLPClassifier', 'activation': 'relu', 'solver': 'sgd', 'tol': 0, 'learning_rate': 'constant'}. Best is trial 15 with value: 0.5277267719427102.\u001b[0m\n"
     ]
    },
    {
     "name": "stdout",
     "output_type": "stream",
     "text": [
      "Test Score: 0.9170033051781123\n",
      "Train Score: 0.9093497428361499\n",
      "\n",
      "=================\n"
     ]
    },
    {
     "name": "stderr",
     "output_type": "stream",
     "text": [
      "\u001b[32m[I 2021-11-28 04:28:18,271]\u001b[0m Trial 40 finished with value: 0.6066838046272494 and parameters: {'classifier': 'MLPClassifier', 'activation': 'relu', 'solver': 'adam', 'tol': 0, 'learning_rate': 'constant'}. Best is trial 15 with value: 0.5277267719427102.\u001b[0m\n"
     ]
    },
    {
     "name": "stdout",
     "output_type": "stream",
     "text": [
      "Test Score: 0.9313257436650753\n",
      "Train Score: 0.9272593681116826\n",
      "\n",
      "=================\n"
     ]
    },
    {
     "name": "stderr",
     "output_type": "stream",
     "text": [
      "\u001b[32m[I 2021-11-28 04:28:21,438]\u001b[0m Trial 41 finished with value: 0.622107969151671 and parameters: {'classifier': 'MLPClassifier', 'activation': 'relu', 'solver': 'adam', 'tol': 0, 'learning_rate': 'constant'}. Best is trial 15 with value: 0.5277267719427102.\u001b[0m\n"
     ]
    },
    {
     "name": "stdout",
     "output_type": "stream",
     "text": [
      "Test Score: 0.9280205655526992\n",
      "Train Score: 0.9268001469507715\n",
      "\n",
      "=================\n"
     ]
    },
    {
     "name": "stderr",
     "output_type": "stream",
     "text": [
      "\u001b[32m[I 2021-11-28 04:28:26,351]\u001b[0m Trial 42 finished with value: 0.5251560778553066 and parameters: {'classifier': 'MLPClassifier', 'activation': 'relu', 'solver': 'adam', 'tol': 0, 'learning_rate': 'constant'}. Best is trial 42 with value: 0.5251560778553066.\u001b[0m\n"
     ]
    },
    {
     "name": "stdout",
     "output_type": "stream",
     "text": [
      "Test Score: 0.9331619537275064\n",
      "Train Score: 0.9268919911829537\n",
      "\n",
      "=================\n"
     ]
    },
    {
     "name": "stderr",
     "output_type": "stream",
     "text": [
      "\u001b[32m[I 2021-11-28 04:28:31,234]\u001b[0m Trial 43 finished with value: 0.7601909658464928 and parameters: {'classifier': 'MLPClassifier', 'activation': 'relu', 'solver': 'sgd', 'tol': 0, 'learning_rate': 'constant'}. Best is trial 42 with value: 0.5251560778553066.\u001b[0m\n"
     ]
    },
    {
     "name": "stdout",
     "output_type": "stream",
     "text": [
      "Test Score: 0.9136981270657363\n",
      "Train Score: 0.904757531227039\n",
      "\n",
      "=================\n"
     ]
    },
    {
     "name": "stderr",
     "output_type": "stream",
     "text": [
      "\u001b[32m[I 2021-11-28 04:28:39,700]\u001b[0m Trial 44 finished with value: 0.6327579875137715 and parameters: {'classifier': 'MLPClassifier', 'activation': 'tanh', 'solver': 'adam', 'tol': 0, 'learning_rate': 'constant'}. Best is trial 42 with value: 0.5251560778553066.\u001b[0m\n"
     ]
    },
    {
     "name": "stdout",
     "output_type": "stream",
     "text": [
      "Test Score: 0.9283878075651855\n",
      "Train Score: 0.9243203526818515\n",
      "\n",
      "=================\n"
     ]
    },
    {
     "name": "stderr",
     "output_type": "stream",
     "text": [
      "\u001b[32m[I 2021-11-28 04:28:43,444]\u001b[0m Trial 45 finished with value: 1.615864854939405 and parameters: {'classifier': 'MLPClassifier', 'activation': 'logistic', 'solver': 'sgd', 'tol': 0, 'learning_rate': 'constant'}. Best is trial 42 with value: 0.5251560778553066.\u001b[0m\n"
     ]
    },
    {
     "name": "stdout",
     "output_type": "stream",
     "text": [
      "Test Score: 0.7807565185457216\n",
      "Train Score: 0.7580822924320353\n",
      "\n",
      "=================\n"
     ]
    },
    {
     "name": "stderr",
     "output_type": "stream",
     "text": [
      "\u001b[32m[I 2021-11-28 04:28:43,893]\u001b[0m Trial 46 finished with value: 8.886889460154242 and parameters: {'classifier': 'SVC', 'C': 3.636393634890015e-08, 'kernel': 'poly', 'degree': 40, 'gamma': 0.10403602441545043}. Best is trial 42 with value: 0.5251560778553066.\u001b[0m\n"
     ]
    },
    {
     "name": "stdout",
     "output_type": "stream",
     "text": [
      "Test Score: 0.25853837679030484\n",
      "Train Score: 0.2607457751653196\n",
      "\n",
      "=================\n"
     ]
    },
    {
     "name": "stderr",
     "output_type": "stream",
     "text": [
      "\u001b[32m[I 2021-11-28 04:28:48,689]\u001b[0m Trial 47 finished with value: 0.5468233565919941 and parameters: {'classifier': 'MLPClassifier', 'activation': 'relu', 'solver': 'adam', 'tol': 0, 'learning_rate': 'constant'}. Best is trial 42 with value: 0.5251560778553066.\u001b[0m\n"
     ]
    },
    {
     "name": "stdout",
     "output_type": "stream",
     "text": [
      "Test Score: 0.9320602276900477\n",
      "Train Score: 0.926983835415136\n",
      "\n",
      "=================\n"
     ]
    },
    {
     "name": "stderr",
     "output_type": "stream",
     "text": [
      "\u001b[32m[I 2021-11-28 04:28:53,632]\u001b[0m Trial 48 finished with value: 0.5449871465295629 and parameters: {'classifier': 'MLPClassifier', 'activation': 'relu', 'solver': 'adam', 'tol': 0, 'learning_rate': 'invscaling'}. Best is trial 42 with value: 0.5251560778553066.\u001b[0m\n"
     ]
    },
    {
     "name": "stdout",
     "output_type": "stream",
     "text": [
      "Test Score: 0.9298567756151304\n",
      "Train Score: 0.9259735488611315\n",
      "\n",
      "=================\n"
     ]
    },
    {
     "name": "stderr",
     "output_type": "stream",
     "text": [
      "\u001b[32m[I 2021-11-28 04:28:58,307]\u001b[0m Trial 49 finished with value: 0.6345941975762027 and parameters: {'classifier': 'MLPClassifier', 'activation': 'logistic', 'solver': 'adam', 'tol': 0, 'learning_rate': 'constant'}. Best is trial 42 with value: 0.5251560778553066.\u001b[0m\n"
     ]
    },
    {
     "name": "stdout",
     "output_type": "stream",
     "text": [
      "Test Score: 0.9239809034153507\n",
      "Train Score: 0.9216568699485672\n",
      "\n",
      "=================\n"
     ]
    },
    {
     "name": "stderr",
     "output_type": "stream",
     "text": [
      "\u001b[32m[I 2021-11-28 04:28:59,897]\u001b[0m Trial 50 finished with value: 0.6867425633492471 and parameters: {'classifier': 'MLPClassifier', 'activation': 'identity', 'solver': 'sgd', 'tol': 0, 'learning_rate': 'constant'}. Best is trial 42 with value: 0.5251560778553066.\u001b[0m\n"
     ]
    },
    {
     "name": "stdout",
     "output_type": "stream",
     "text": [
      "Test Score: 0.9199412412780023\n",
      "Train Score: 0.9176157237325496\n",
      "\n",
      "=================\n"
     ]
    },
    {
     "name": "stderr",
     "output_type": "stream",
     "text": [
      "\u001b[32m[I 2021-11-28 04:29:03,859]\u001b[0m Trial 51 finished with value: 0.604480352552332 and parameters: {'classifier': 'MLPClassifier', 'activation': 'relu', 'solver': 'adam', 'tol': 0, 'learning_rate': 'invscaling'}. Best is trial 42 with value: 0.5251560778553066.\u001b[0m\n"
     ]
    },
    {
     "name": "stdout",
     "output_type": "stream",
     "text": [
      "Test Score: 0.9302240176276166\n",
      "Train Score: 0.927443056576047\n",
      "\n",
      "=================\n"
     ]
    },
    {
     "name": "stderr",
     "output_type": "stream",
     "text": [
      "\u001b[32m[I 2021-11-28 04:29:08,668]\u001b[0m Trial 52 finished with value: 0.6136614028644877 and parameters: {'classifier': 'MLPClassifier', 'activation': 'relu', 'solver': 'adam', 'tol': 0, 'learning_rate': 'invscaling'}. Best is trial 42 with value: 0.5251560778553066.\u001b[0m\n"
     ]
    },
    {
     "name": "stdout",
     "output_type": "stream",
     "text": [
      "Test Score: 0.9287550495776716\n",
      "Train Score: 0.927443056576047\n",
      "\n",
      "=================\n"
     ]
    },
    {
     "name": "stderr",
     "output_type": "stream",
     "text": [
      "\u001b[32m[I 2021-11-28 04:29:13,678]\u001b[0m Trial 53 finished with value: 0.5861182519280206 and parameters: {'classifier': 'MLPClassifier', 'activation': 'relu', 'solver': 'adam', 'tol': 0, 'learning_rate': 'invscaling'}. Best is trial 42 with value: 0.5251560778553066.\u001b[0m\n"
     ]
    },
    {
     "name": "stdout",
     "output_type": "stream",
     "text": [
      "Test Score: 0.9316929856775615\n",
      "Train Score: 0.927443056576047\n",
      "\n",
      "=================\n"
     ]
    },
    {
     "name": "stderr",
     "output_type": "stream",
     "text": [
      "\u001b[32m[I 2021-11-28 04:29:18,645]\u001b[0m Trial 54 finished with value: 0.5633492471538744 and parameters: {'classifier': 'MLPClassifier', 'activation': 'relu', 'solver': 'adam', 'tol': 0, 'learning_rate': 'invscaling'}. Best is trial 42 with value: 0.5251560778553066.\u001b[0m\n"
     ]
    },
    {
     "name": "stdout",
     "output_type": "stream",
     "text": [
      "Test Score: 0.9316929856775615\n",
      "Train Score: 0.9289125642909625\n",
      "\n",
      "=================\n"
     ]
    },
    {
     "name": "stderr",
     "output_type": "stream",
     "text": [
      "\u001b[32m[I 2021-11-28 04:29:22,992]\u001b[0m Trial 55 finished with value: 0.5897906720528828 and parameters: {'classifier': 'MLPClassifier', 'activation': 'relu', 'solver': 'adam', 'tol': 0, 'learning_rate': 'invscaling'}. Best is trial 42 with value: 0.5251560778553066.\u001b[0m\n"
     ]
    },
    {
     "name": "stdout",
     "output_type": "stream",
     "text": [
      "Test Score: 0.9320602276900477\n",
      "Train Score: 0.9279022777369581\n",
      "\n",
      "=================\n"
     ]
    },
    {
     "name": "stderr",
     "output_type": "stream",
     "text": [
      "\u001b[32m[I 2021-11-28 04:29:24,466]\u001b[0m Trial 56 finished with value: 0.6169665809768637 and parameters: {'classifier': 'MLPClassifier', 'activation': 'identity', 'solver': 'adam', 'tol': 0, 'learning_rate': 'invscaling'}. Best is trial 42 with value: 0.5251560778553066.\u001b[0m\n"
     ]
    },
    {
     "name": "stdout",
     "output_type": "stream",
     "text": [
      "Test Score: 0.9243481454278369\n",
      "Train Score: 0.9232182218956649\n",
      "\n",
      "=================\n"
     ]
    },
    {
     "name": "stderr",
     "output_type": "stream",
     "text": [
      "\u001b[32m[I 2021-11-28 04:29:29,271]\u001b[0m Trial 57 finished with value: 0.5952993022401762 and parameters: {'classifier': 'MLPClassifier', 'activation': 'relu', 'solver': 'adam', 'tol': 0, 'learning_rate': 'constant'}. Best is trial 42 with value: 0.5251560778553066.\u001b[0m\n"
     ]
    },
    {
     "name": "stdout",
     "output_type": "stream",
     "text": [
      "Test Score: 0.9298567756151304\n",
      "Train Score: 0.9267083027185893\n",
      "\n",
      "=================\n"
     ]
    },
    {
     "name": "stderr",
     "output_type": "stream",
     "text": [
      "\u001b[32m[I 2021-11-28 04:29:33,935]\u001b[0m Trial 58 finished with value: 0.6885787734116783 and parameters: {'classifier': 'MLPClassifier', 'activation': 'logistic', 'solver': 'adam', 'tol': 0, 'learning_rate': 'invscaling'}. Best is trial 42 with value: 0.5251560778553066.\u001b[0m\n"
     ]
    },
    {
     "name": "stdout",
     "output_type": "stream",
     "text": [
      "Test Score: 0.9214102093279471\n",
      "Train Score: 0.9211976487876561\n",
      "\n",
      "=================\n",
      "Test Score: 0.35438854204921044\n"
     ]
    },
    {
     "name": "stderr",
     "output_type": "stream",
     "text": [
      "\u001b[32m[I 2021-11-28 04:29:35,174]\u001b[0m Trial 59 finished with value: 6.940874035989717 and parameters: {'classifier': 'SVC', 'C': 0.0028542256725706157, 'kernel': 'sigmoid', 'degree': 10, 'gamma': 14.392412840438276}. Best is trial 42 with value: 0.5251560778553066.\u001b[0m\n"
     ]
    },
    {
     "name": "stdout",
     "output_type": "stream",
     "text": [
      "Train Score: 0.3570903747244673\n",
      "\n",
      "=================\n"
     ]
    },
    {
     "name": "stderr",
     "output_type": "stream",
     "text": [
      "\u001b[32m[I 2021-11-28 04:29:43,567]\u001b[0m Trial 60 finished with value: 0.6033786265148733 and parameters: {'classifier': 'MLPClassifier', 'activation': 'tanh', 'solver': 'adam', 'tol': 0, 'learning_rate': 'constant'}. Best is trial 42 with value: 0.5251560778553066.\u001b[0m\n"
     ]
    },
    {
     "name": "stdout",
     "output_type": "stream",
     "text": [
      "Test Score: 0.9291222915901579\n",
      "Train Score: 0.9244121969140338\n",
      "\n",
      "=================\n"
     ]
    },
    {
     "name": "stderr",
     "output_type": "stream",
     "text": [
      "\u001b[32m[I 2021-11-28 04:29:47,693]\u001b[0m Trial 61 finished with value: 0.5842820418655894 and parameters: {'classifier': 'MLPClassifier', 'activation': 'relu', 'solver': 'adam', 'tol': 0, 'learning_rate': 'constant'}. Best is trial 42 with value: 0.5251560778553066.\u001b[0m\n"
     ]
    },
    {
     "name": "stdout",
     "output_type": "stream",
     "text": [
      "Test Score: 0.9316929856775615\n",
      "Train Score: 0.9275349008082292\n",
      "\n",
      "=================\n"
     ]
    },
    {
     "name": "stderr",
     "output_type": "stream",
     "text": [
      "\u001b[32m[I 2021-11-28 04:29:52,641]\u001b[0m Trial 62 finished with value: 0.5809768637532133 and parameters: {'classifier': 'MLPClassifier', 'activation': 'relu', 'solver': 'adam', 'tol': 0, 'learning_rate': 'constant'}. Best is trial 42 with value: 0.5251560778553066.\u001b[0m\n"
     ]
    },
    {
     "name": "stdout",
     "output_type": "stream",
     "text": [
      "Test Score: 0.9302240176276166\n",
      "Train Score: 0.9278104335047759\n",
      "\n",
      "=================\n"
     ]
    },
    {
     "name": "stderr",
     "output_type": "stream",
     "text": [
      "\u001b[32m[I 2021-11-28 04:29:54,565]\u001b[0m Trial 63 finished with value: 0.5780389276533235 and parameters: {'classifier': 'MLPClassifier', 'activation': 'relu', 'solver': 'adam', 'tol': 0, 'learning_rate': 'constant'}. Best is trial 42 with value: 0.5251560778553066.\u001b[0m\n"
     ]
    },
    {
     "name": "stdout",
     "output_type": "stream",
     "text": [
      "Test Score: 0.9305912596401028\n",
      "Train Score: 0.9277185892725937\n",
      "\n",
      "=================\n"
     ]
    },
    {
     "name": "stderr",
     "output_type": "stream",
     "text": [
      "\u001b[32m[I 2021-11-28 04:29:56,458]\u001b[0m Trial 64 finished with value: 0.5651854572163055 and parameters: {'classifier': 'MLPClassifier', 'activation': 'relu', 'solver': 'adam', 'tol': 0, 'learning_rate': 'constant'}. Best is trial 42 with value: 0.5251560778553066.\u001b[0m\n"
     ]
    },
    {
     "name": "stdout",
     "output_type": "stream",
     "text": [
      "Test Score: 0.9320602276900477\n",
      "Train Score: 0.9286370315944159\n",
      "\n",
      "=================\n"
     ]
    },
    {
     "name": "stderr",
     "output_type": "stream",
     "text": [
      "\u001b[32m[I 2021-11-28 04:29:58,400]\u001b[0m Trial 65 finished with value: 0.5420492104296731 and parameters: {'classifier': 'MLPClassifier', 'activation': 'relu', 'solver': 'adam', 'tol': 0, 'learning_rate': 'constant'}. Best is trial 42 with value: 0.5251560778553066.\u001b[0m\n"
     ]
    },
    {
     "name": "stdout",
     "output_type": "stream",
     "text": [
      "Test Score: 0.9294895336026442\n",
      "Train Score: 0.9259735488611315\n",
      "\n",
      "=================\n"
     ]
    },
    {
     "name": "stderr",
     "output_type": "stream",
     "text": [
      "\u001b[32m[I 2021-11-28 04:30:00,327]\u001b[0m Trial 66 finished with value: 0.5486595666544253 and parameters: {'classifier': 'MLPClassifier', 'activation': 'relu', 'solver': 'adam', 'tol': 0, 'learning_rate': 'constant'}. Best is trial 42 with value: 0.5251560778553066.\u001b[0m\n"
     ]
    },
    {
     "name": "stdout",
     "output_type": "stream",
     "text": [
      "Test Score: 0.9316929856775615\n",
      "Train Score: 0.9272593681116826\n",
      "\n",
      "=================\n"
     ]
    },
    {
     "name": "stderr",
     "output_type": "stream",
     "text": [
      "\u001b[32m[I 2021-11-28 04:30:02,271]\u001b[0m Trial 67 finished with value: 0.5629820051413882 and parameters: {'classifier': 'MLPClassifier', 'activation': 'relu', 'solver': 'adam', 'tol': 0, 'learning_rate': 'constant'}. Best is trial 42 with value: 0.5251560778553066.\u001b[0m\n"
     ]
    },
    {
     "name": "stdout",
     "output_type": "stream",
     "text": [
      "Test Score: 0.932427469702534\n",
      "Train Score: 0.9276267450404114\n",
      "\n",
      "=================\n"
     ]
    },
    {
     "name": "stderr",
     "output_type": "stream",
     "text": [
      "\u001b[32m[I 2021-11-28 04:30:03,750]\u001b[0m Trial 68 finished with value: 0.6779287550495777 and parameters: {'classifier': 'MLPClassifier', 'activation': 'identity', 'solver': 'adam', 'tol': 0, 'learning_rate': 'invscaling'}. Best is trial 42 with value: 0.5251560778553066.\u001b[0m\n"
     ]
    },
    {
     "name": "stdout",
     "output_type": "stream",
     "text": [
      "Test Score: 0.9217774513404333\n",
      "Train Score: 0.9211058045554739\n",
      "\n",
      "=================\n"
     ]
    },
    {
     "name": "stderr",
     "output_type": "stream",
     "text": [
      "\u001b[32m[I 2021-11-28 04:30:05,681]\u001b[0m Trial 69 finished with value: 0.6500183621006244 and parameters: {'classifier': 'MLPClassifier', 'activation': 'relu', 'solver': 'adam', 'tol': 0, 'learning_rate': 'constant'}. Best is trial 42 with value: 0.5251560778553066.\u001b[0m\n"
     ]
    },
    {
     "name": "stdout",
     "output_type": "stream",
     "text": [
      "Test Score: 0.9272860815277267\n",
      "Train Score: 0.9270756796473182\n",
      "\n",
      "=================\n",
      "Test Score: 0.6702166727873669\n"
     ]
    },
    {
     "name": "stderr",
     "output_type": "stream",
     "text": [
      "\u001b[32m[I 2021-11-28 04:30:06,310]\u001b[0m Trial 70 finished with value: 3.839515240543518 and parameters: {'classifier': 'SVC', 'C': 3.8078783453082252e-06, 'kernel': 'rbf', 'degree': 39, 'gamma': 437.7651894855179}. Best is trial 42 with value: 0.5251560778553066.\u001b[0m\n"
     ]
    },
    {
     "name": "stdout",
     "output_type": "stream",
     "text": [
      "Train Score: 0.6735855988243938\n",
      "\n",
      "=================\n"
     ]
    },
    {
     "name": "stderr",
     "output_type": "stream",
     "text": [
      "\u001b[32m[I 2021-11-28 04:30:10,158]\u001b[0m Trial 71 finished with value: 0.525890561880279 and parameters: {'classifier': 'MLPClassifier', 'activation': 'relu', 'solver': 'adam', 'tol': 0, 'learning_rate': 'constant'}. Best is trial 42 with value: 0.5251560778553066.\u001b[0m\n"
     ]
    },
    {
     "name": "stdout",
     "output_type": "stream",
     "text": [
      "Test Score: 0.9313257436650753\n",
      "Train Score: 0.9272593681116826\n",
      "\n",
      "=================\n"
     ]
    },
    {
     "name": "stderr",
     "output_type": "stream",
     "text": [
      "\u001b[32m[I 2021-11-28 04:30:14,712]\u001b[0m Trial 72 finished with value: 0.5339698861549761 and parameters: {'classifier': 'MLPClassifier', 'activation': 'relu', 'solver': 'adam', 'tol': 0, 'learning_rate': 'constant'}. Best is trial 42 with value: 0.5251560778553066.\u001b[0m\n"
     ]
    },
    {
     "name": "stdout",
     "output_type": "stream",
     "text": [
      "Test Score: 0.9331619537275064\n",
      "Train Score: 0.9262490815576782\n",
      "\n",
      "=================\n"
     ]
    },
    {
     "name": "stderr",
     "output_type": "stream",
     "text": [
      "\u001b[32m[I 2021-11-28 04:30:18,449]\u001b[0m Trial 73 finished with value: 0.5699596033786265 and parameters: {'classifier': 'MLPClassifier', 'activation': 'relu', 'solver': 'adam', 'tol': 0, 'learning_rate': 'constant'}. Best is trial 42 with value: 0.5251560778553066.\u001b[0m\n"
     ]
    },
    {
     "name": "stdout",
     "output_type": "stream",
     "text": [
      "Test Score: 0.932427469702534\n",
      "Train Score: 0.9271675238795004\n",
      "\n",
      "=================\n"
     ]
    },
    {
     "name": "stderr",
     "output_type": "stream",
     "text": [
      "\u001b[32m[I 2021-11-28 04:30:22,374]\u001b[0m Trial 74 finished with value: 0.6011751744399559 and parameters: {'classifier': 'MLPClassifier', 'activation': 'relu', 'solver': 'adam', 'tol': 0, 'learning_rate': 'constant'}. Best is trial 42 with value: 0.5251560778553066.\u001b[0m\n"
     ]
    },
    {
     "name": "stdout",
     "output_type": "stream",
     "text": [
      "Test Score: 0.9291222915901579\n",
      "Train Score: 0.9264327700220426\n",
      "\n",
      "=================\n"
     ]
    },
    {
     "name": "stderr",
     "output_type": "stream",
     "text": [
      "\u001b[32m[I 2021-11-28 04:30:27,296]\u001b[0m Trial 75 finished with value: 0.6320235034887991 and parameters: {'classifier': 'MLPClassifier', 'activation': 'relu', 'solver': 'adam', 'tol': 0, 'learning_rate': 'constant'}. Best is trial 42 with value: 0.5251560778553066.\u001b[0m\n"
     ]
    },
    {
     "name": "stdout",
     "output_type": "stream",
     "text": [
      "Test Score: 0.9287550495776716\n",
      "Train Score: 0.9279022777369581\n",
      "\n",
      "=================\n"
     ]
    },
    {
     "name": "stderr",
     "output_type": "stream",
     "text": [
      "\u001b[32m[I 2021-11-28 04:30:32,044]\u001b[0m Trial 76 finished with value: 0.525890561880279 and parameters: {'classifier': 'MLPClassifier', 'activation': 'relu', 'solver': 'adam', 'tol': 0, 'learning_rate': 'constant'}. Best is trial 42 with value: 0.5251560778553066.\u001b[0m\n"
     ]
    },
    {
     "name": "stdout",
     "output_type": "stream",
     "text": [
      "Test Score: 0.9327947117150202\n",
      "Train Score: 0.9276267450404114\n",
      "\n",
      "=================\n"
     ]
    },
    {
     "name": "stderr",
     "output_type": "stream",
     "text": [
      "\u001b[32m[I 2021-11-28 04:30:40,423]\u001b[0m Trial 77 finished with value: 0.6933529195739992 and parameters: {'classifier': 'MLPClassifier', 'activation': 'tanh', 'solver': 'sgd', 'tol': 0, 'learning_rate': 'constant'}. Best is trial 42 with value: 0.5251560778553066.\u001b[0m\n"
     ]
    },
    {
     "name": "stdout",
     "output_type": "stream",
     "text": [
      "Test Score: 0.9214102093279471\n",
      "Train Score: 0.915686994856723\n",
      "\n",
      "=================\n"
     ]
    },
    {
     "name": "stderr",
     "output_type": "stream",
     "text": [
      "\u001b[32m[I 2021-11-28 04:30:43,936]\u001b[0m Trial 78 finished with value: 0.5930958501652589 and parameters: {'classifier': 'MLPClassifier', 'activation': 'relu', 'solver': 'adam', 'tol': 0, 'learning_rate': 'constant'}. Best is trial 42 with value: 0.5251560778553066.\u001b[0m\n"
     ]
    },
    {
     "name": "stdout",
     "output_type": "stream",
     "text": [
      "Test Score: 0.9327947117150202\n",
      "Train Score: 0.9278104335047759\n",
      "\n",
      "=================\n"
     ]
    },
    {
     "name": "stderr",
     "output_type": "stream",
     "text": [
      "\u001b[32m[I 2021-11-28 04:30:48,757]\u001b[0m Trial 79 finished with value: 0.5446199045170768 and parameters: {'classifier': 'MLPClassifier', 'activation': 'relu', 'solver': 'adam', 'tol': 0, 'learning_rate': 'constant'}. Best is trial 42 with value: 0.5251560778553066.\u001b[0m\n"
     ]
    },
    {
     "name": "stdout",
     "output_type": "stream",
     "text": [
      "Test Score: 0.9313257436650753\n",
      "Train Score: 0.926983835415136\n",
      "\n",
      "=================\n"
     ]
    },
    {
     "name": "stderr",
     "output_type": "stream",
     "text": [
      "\u001b[32m[I 2021-11-28 04:30:51,097]\u001b[0m Trial 80 finished with value: 0.6305545354388542 and parameters: {'classifier': 'MLPClassifier', 'activation': 'relu', 'solver': 'adam', 'tol': 0, 'learning_rate': 'constant'}. Best is trial 42 with value: 0.5251560778553066.\u001b[0m\n"
     ]
    },
    {
     "name": "stdout",
     "output_type": "stream",
     "text": [
      "Test Score: 0.9291222915901579\n",
      "Train Score: 0.9266164584864071\n",
      "\n",
      "=================\n"
     ]
    },
    {
     "name": "stderr",
     "output_type": "stream",
     "text": [
      "\u001b[32m[I 2021-11-28 04:30:54,988]\u001b[0m Trial 81 finished with value: 0.6470804260007345 and parameters: {'classifier': 'MLPClassifier', 'activation': 'relu', 'solver': 'adam', 'tol': 0, 'learning_rate': 'constant'}. Best is trial 42 with value: 0.5251560778553066.\u001b[0m\n"
     ]
    },
    {
     "name": "stdout",
     "output_type": "stream",
     "text": [
      "Test Score: 0.9294895336026442\n",
      "Train Score: 0.926983835415136\n",
      "\n",
      "=================\n"
     ]
    },
    {
     "name": "stderr",
     "output_type": "stream",
     "text": [
      "\u001b[32m[I 2021-11-28 04:30:59,844]\u001b[0m Trial 82 finished with value: 0.5945648182152038 and parameters: {'classifier': 'MLPClassifier', 'activation': 'relu', 'solver': 'adam', 'tol': 0, 'learning_rate': 'constant'}. Best is trial 42 with value: 0.5251560778553066.\u001b[0m\n"
     ]
    },
    {
     "name": "stdout",
     "output_type": "stream",
     "text": [
      "Test Score: 0.9302240176276166\n",
      "Train Score: 0.9267083027185893\n",
      "\n",
      "=================\n"
     ]
    },
    {
     "name": "stderr",
     "output_type": "stream",
     "text": [
      "\u001b[32m[I 2021-11-28 04:31:01,758]\u001b[0m Trial 83 finished with value: 0.5941975762027176 and parameters: {'classifier': 'MLPClassifier', 'activation': 'relu', 'solver': 'adam', 'tol': 0, 'learning_rate': 'constant'}. Best is trial 42 with value: 0.5251560778553066.\u001b[0m\n"
     ]
    },
    {
     "name": "stdout",
     "output_type": "stream",
     "text": [
      "Test Score: 0.9320602276900477\n",
      "Train Score: 0.9279941219691403\n",
      "\n",
      "=================\n"
     ]
    },
    {
     "name": "stderr",
     "output_type": "stream",
     "text": [
      "\u001b[32m[I 2021-11-28 04:31:06,016]\u001b[0m Trial 84 finished with value: 0.5784061696658098 and parameters: {'classifier': 'MLPClassifier', 'activation': 'relu', 'solver': 'adam', 'tol': 0, 'learning_rate': 'constant'}. Best is trial 42 with value: 0.5251560778553066.\u001b[0m\n"
     ]
    },
    {
     "name": "stdout",
     "output_type": "stream",
     "text": [
      "Test Score: 0.9305912596401028\n",
      "Train Score: 0.9271675238795004\n",
      "\n",
      "=================\n"
     ]
    },
    {
     "name": "stderr",
     "output_type": "stream",
     "text": [
      "\u001b[32m[I 2021-11-28 04:31:10,544]\u001b[0m Trial 85 finished with value: 0.6782959970620639 and parameters: {'classifier': 'MLPClassifier', 'activation': 'logistic', 'solver': 'adam', 'tol': 0, 'learning_rate': 'constant'}. Best is trial 42 with value: 0.5251560778553066.\u001b[0m\n"
     ]
    },
    {
     "name": "stdout",
     "output_type": "stream",
     "text": [
      "Test Score: 0.9210429673154609\n",
      "Train Score: 0.9202792064658339\n",
      "\n",
      "=================\n"
     ]
    },
    {
     "name": "stderr",
     "output_type": "stream",
     "text": [
      "\u001b[32m[I 2021-11-28 04:31:15,461]\u001b[0m Trial 86 finished with value: 0.5828130738156445 and parameters: {'classifier': 'MLPClassifier', 'activation': 'relu', 'solver': 'adam', 'tol': 0, 'learning_rate': 'constant'}. Best is trial 42 with value: 0.5251560778553066.\u001b[0m\n"
     ]
    },
    {
     "name": "stdout",
     "output_type": "stream",
     "text": [
      "Test Score: 0.9294895336026442\n",
      "Train Score: 0.926983835415136\n",
      "\n",
      "=================\n"
     ]
    },
    {
     "name": "stderr",
     "output_type": "stream",
     "text": [
      "\u001b[32m[I 2021-11-28 04:31:20,327]\u001b[0m Trial 87 finished with value: 0.7392581711347778 and parameters: {'classifier': 'MLPClassifier', 'activation': 'relu', 'solver': 'sgd', 'tol': 0, 'learning_rate': 'constant'}. Best is trial 42 with value: 0.5251560778553066.\u001b[0m\n"
     ]
    },
    {
     "name": "stdout",
     "output_type": "stream",
     "text": [
      "Test Score: 0.9166360631656262\n",
      "Train Score: 0.9099926524614255\n",
      "\n",
      "=================\n"
     ]
    },
    {
     "name": "stderr",
     "output_type": "stream",
     "text": [
      "\u001b[32m[I 2021-11-28 04:31:20,776]\u001b[0m Trial 88 finished with value: 9.147264047006978 and parameters: {'classifier': 'SVC', 'C': 0.0378363370153812, 'kernel': 'poly', 'degree': 29, 'gamma': 0.0350939128613358}. Best is trial 42 with value: 0.5251560778553066.\u001b[0m\n"
     ]
    },
    {
     "name": "stdout",
     "output_type": "stream",
     "text": [
      "Test Score: 0.2713918472273228\n",
      "Train Score: 0.2726855253490081\n",
      "\n",
      "=================\n"
     ]
    },
    {
     "name": "stderr",
     "output_type": "stream",
     "text": [
      "\u001b[32m[I 2021-11-28 04:31:25,482]\u001b[0m Trial 89 finished with value: 0.5831803158281308 and parameters: {'classifier': 'MLPClassifier', 'activation': 'relu', 'solver': 'adam', 'tol': 0, 'learning_rate': 'constant'}. Best is trial 42 with value: 0.5251560778553066.\u001b[0m\n"
     ]
    },
    {
     "name": "stdout",
     "output_type": "stream",
     "text": [
      "Test Score: 0.9302240176276166\n",
      "Train Score: 0.9279941219691403\n",
      "\n",
      "=================\n"
     ]
    },
    {
     "name": "stderr",
     "output_type": "stream",
     "text": [
      "\u001b[32m[I 2021-11-28 04:31:29,163]\u001b[0m Trial 90 finished with value: 0.6786632390745502 and parameters: {'classifier': 'MLPClassifier', 'activation': 'identity', 'solver': 'adam', 'tol': 0, 'learning_rate': 'constant'}. Best is trial 42 with value: 0.5251560778553066.\u001b[0m\n"
     ]
    },
    {
     "name": "stdout",
     "output_type": "stream",
     "text": [
      "Test Score: 0.9210429673154609\n",
      "Train Score: 0.9196362968405584\n",
      "\n",
      "=================\n"
     ]
    },
    {
     "name": "stderr",
     "output_type": "stream",
     "text": [
      "\u001b[32m[I 2021-11-28 04:31:33,801]\u001b[0m Trial 91 finished with value: 0.5644509731913331 and parameters: {'classifier': 'MLPClassifier', 'activation': 'relu', 'solver': 'adam', 'tol': 0, 'learning_rate': 'constant'}. Best is trial 42 with value: 0.5251560778553066.\u001b[0m\n"
     ]
    },
    {
     "name": "stdout",
     "output_type": "stream",
     "text": [
      "Test Score: 0.9294895336026442\n",
      "Train Score: 0.9291880969875091\n",
      "\n",
      "=================\n"
     ]
    },
    {
     "name": "stderr",
     "output_type": "stream",
     "text": [
      "\u001b[32m[I 2021-11-28 04:31:38,795]\u001b[0m Trial 92 finished with value: 0.5666544252662504 and parameters: {'classifier': 'MLPClassifier', 'activation': 'relu', 'solver': 'adam', 'tol': 0, 'learning_rate': 'constant'}. Best is trial 42 with value: 0.5251560778553066.\u001b[0m\n"
     ]
    },
    {
     "name": "stdout",
     "output_type": "stream",
     "text": [
      "Test Score: 0.9283878075651855\n",
      "Train Score: 0.927443056576047\n",
      "\n",
      "=================\n"
     ]
    },
    {
     "name": "stderr",
     "output_type": "stream",
     "text": [
      "\u001b[32m[I 2021-11-28 04:31:43,138]\u001b[0m Trial 93 finished with value: 0.5945648182152038 and parameters: {'classifier': 'MLPClassifier', 'activation': 'relu', 'solver': 'adam', 'tol': 0, 'learning_rate': 'constant'}. Best is trial 42 with value: 0.5251560778553066.\u001b[0m\n"
     ]
    },
    {
     "name": "stdout",
     "output_type": "stream",
     "text": [
      "Test Score: 0.9302240176276166\n",
      "Train Score: 0.9279941219691403\n",
      "\n",
      "=================\n"
     ]
    },
    {
     "name": "stderr",
     "output_type": "stream",
     "text": [
      "\u001b[32m[I 2021-11-28 04:31:45,027]\u001b[0m Trial 94 finished with value: 0.5769372016158648 and parameters: {'classifier': 'MLPClassifier', 'activation': 'relu', 'solver': 'adam', 'tol': 0, 'learning_rate': 'constant'}. Best is trial 42 with value: 0.5251560778553066.\u001b[0m\n"
     ]
    },
    {
     "name": "stdout",
     "output_type": "stream",
     "text": [
      "Test Score: 0.9291222915901579\n",
      "Train Score: 0.9283614988978692\n",
      "\n",
      "=================\n"
     ]
    },
    {
     "name": "stderr",
     "output_type": "stream",
     "text": [
      "\u001b[32m[I 2021-11-28 04:31:47,767]\u001b[0m Trial 95 finished with value: 0.5361733382298935 and parameters: {'classifier': 'MLPClassifier', 'activation': 'relu', 'solver': 'adam', 'tol': 0, 'learning_rate': 'constant'}. Best is trial 42 with value: 0.5251560778553066.\u001b[0m\n"
     ]
    },
    {
     "name": "stdout",
     "output_type": "stream",
     "text": [
      "Test Score: 0.9309585016525891\n",
      "Train Score: 0.9284533431300515\n",
      "\n",
      "=================\n"
     ]
    },
    {
     "name": "stderr",
     "output_type": "stream",
     "text": [
      "\u001b[32m[I 2021-11-28 04:31:53,766]\u001b[0m Trial 96 finished with value: 0.6143958868894601 and parameters: {'classifier': 'MLPClassifier', 'activation': 'tanh', 'solver': 'adam', 'tol': 0, 'learning_rate': 'constant'}. Best is trial 42 with value: 0.5251560778553066.\u001b[0m\n"
     ]
    },
    {
     "name": "stdout",
     "output_type": "stream",
     "text": [
      "Test Score: 0.9280205655526992\n",
      "Train Score: 0.9243203526818515\n",
      "\n",
      "=================\n"
     ]
    },
    {
     "name": "stderr",
     "output_type": "stream",
     "text": [
      "\u001b[32m[I 2021-11-28 04:31:56,024]\u001b[0m Trial 97 finished with value: 0.5776716856408373 and parameters: {'classifier': 'MLPClassifier', 'activation': 'relu', 'solver': 'adam', 'tol': 0, 'learning_rate': 'constant'}. Best is trial 42 with value: 0.5251560778553066.\u001b[0m\n"
     ]
    },
    {
     "name": "stdout",
     "output_type": "stream",
     "text": [
      "Test Score: 0.9313257436650753\n",
      "Train Score: 0.9268001469507715\n",
      "\n",
      "=================\n"
     ]
    },
    {
     "name": "stderr",
     "output_type": "stream",
     "text": [
      "\u001b[32m[I 2021-11-28 04:32:00,160]\u001b[0m Trial 98 finished with value: 0.6022769004774147 and parameters: {'classifier': 'MLPClassifier', 'activation': 'relu', 'solver': 'adam', 'tol': 0, 'learning_rate': 'constant'}. Best is trial 42 with value: 0.5251560778553066.\u001b[0m\n"
     ]
    },
    {
     "name": "stdout",
     "output_type": "stream",
     "text": [
      "Test Score: 0.9316929856775615\n",
      "Train Score: 0.9277185892725937\n",
      "\n",
      "=================\n"
     ]
    },
    {
     "name": "stderr",
     "output_type": "stream",
     "text": [
      "\u001b[32m[I 2021-11-28 04:32:03,569]\u001b[0m Trial 99 finished with value: 0.6143958868894601 and parameters: {'classifier': 'MLPClassifier', 'activation': 'relu', 'solver': 'adam', 'tol': 0, 'learning_rate': 'constant'}. Best is trial 42 with value: 0.5251560778553066.\u001b[0m\n"
     ]
    },
    {
     "name": "stdout",
     "output_type": "stream",
     "text": [
      "Test Score: 0.9316929856775615\n",
      "Train Score: 0.927443056576047\n",
      "\n",
      "=================\n"
     ]
    }
   ],
   "source": [
    "import optuna\n",
    "import warnings\n",
    "warnings.filterwarnings('ignore')\n",
    "\n",
    "# depending on the definition of objective\n",
    "# we can create study object with either minimize or maximize\n",
    "study = optuna.create_study(direction='minimize')\n",
    "\n",
    "# start tuning for the hyper-parameters\n",
    "study.optimize(objective, n_trials=100)"
   ]
  },
  {
   "cell_type": "markdown",
   "metadata": {},
   "source": [
    "### Τεκμηρίωση Διαδικασίας"
   ]
  },
  {
   "cell_type": "markdown",
   "metadata": {},
   "source": [
    "Εκκινώντας από το κάθε μοντέλο όπως έχει, δίχως δηλαδή να τροποποιήσουμε τις παραμέτρους του, ελέγχουμε την απόδοσή του στο σύνολο της εκπαίδευσης. Εξαρχής, οι ταξινομητές MLP & SVC παρουσίαζαν υψηλές αποδόσεις. Εν συνεχεία, εφαρμόζουμε τη μέθοδο της βελτιστοποίησης. Αυτή συνοψίζεται στα βήματα προεπεξεργασίας, pipeline και εύρεσης βέλτιστων παραμέτρων. \n",
    "<br>\n",
    "\n",
    "Κατά την προεπεξεργασία, εφόσον έχουμε αποκλείσει τιμές οι οποίες απουσιάζουν, μειώνουμε τις διαστάσεις εισόδου με επιλογή χαρακτηριστικών. Συγκεκριμένα, χρησιμοποιούμε τη τεχνική ελαχίστου κατωφλίου της διακύμανσης (Variance threshold), αφού αν η διακύμανση ενός χαρακτηριστικού εισόδου είναι πολύ χαμηλή, δεν μπορεί να προσφέρει σημαντικά στη διαχωριστική ικανότητα του ταξινομητή. \n",
    "<br>\n",
    "Έπειτα, κανονικοποιούμε τα χαρακτηριστικά (preprocessing.scale). Η κανονικοποίηση μετασχηματίζει τις τιμές των χαρακτηριστικών ώστε να περιοριστούν  οι πολύ μεγάλες διαφορές στις απόλυτες τιμές των χαρακτηριστικών.\n",
    "<br>\n",
    "Επειδή το dataset δεν ήταν ισορροπημένο, κάναμε oversampling προκειμένου να το εξισορροπήσουμε (ros.fit_resample).\n",
    "<br>\n",
    "Tέλος, εφαρμόζουμε ανάλυση σε κύριες συνιστώσες με την τεχνική PCA, για την μείωση της διαστατικότητας. Η διαδικασία της προεπεξεργασίας αξιολογείται και στο σύνολο της εκπαίδευσης, βάσει των δύο μετρικών.\n",
    "<br>\n",
    "\n",
    "Με τη διαδικασία του pipeline κατασκευάζουμε μια σεiρα μετασχηματιστών πάνω στα χαρακτηριστικά των δεδομένων. Το pipeline ολοκληρώνεται με έναν ταξινομητή. Φτιάχνουμε δύο ξεχωριστα pipelines ένα για SVC και ένα για MLP. Το pipeline θεωρείται συνολικά ως εκτιμητής. Συνεπώς, αξιολογείται στο σύνολο της εκπαίδευσης.\n",
    "<br>\n",
    "\n",
    "Για την επιλογή των βέλτιστων παραμέτρων χρησιμοποιούμε την βιβλιοθήκη OPTUNA. Αυτή μας επιστρέφει τη βέλτιστη αρχιτεκτονική, τον συνδυασμό δηλαδή των παραμέτρων που αποδίδουν το πιο αποδοτικό μοντέλο."
   ]
  },
  {
   "cell_type": "markdown",
   "metadata": {},
   "source": [
    "### Παρουσίαση Αποτελεσμάτων"
   ]
  },
  {
   "cell_type": "markdown",
   "metadata": {},
   "source": [
    "| Classifier | Accuracy | F1-score | otb Accuracy |otb F1-score |Accuracy in test set|\n",
    "| --- | --- | --- |--- | --- |--- |\n",
    "| MLP | 0.9617 | 0.9877 |+0.0300 |+0.0561|0.9237 |\n",
    "| --- | --- | --- |--- | --- |--- | --- |--- |\n",
    "| SVM | 0.9530 | 0.9731 |+0.0256 | +0.0456|0.8693|\n",
    " |\n"
   ]
  },
  {
   "cell_type": "markdown",
   "metadata": {},
   "source": [
    "Στον παραπάνω πίνακα παρουσιάζουμε στην στήλη Accuracy, το accuracy του βέλτιστου μοντέλου (έπειτα από την αρχιτεκτονική που προτείνει το grid search). Ομοίως και για την στήλη του F1-score. Τα otb Accuracy & otb F1-score αποδίδουν τη διαφορά του βέλτιστου μοντέλου συγκριτικά με το out of the box μοντέλο, για την κάθε μετρική αντίστοιχα. Τέλος, με την βιβλιοθήκη OPTUNA εξάγουμε το βέλτιστο μοντέλο και ελέγχουμε τις τιμές του accuracy στο test set. Tα αποτελέσματα αυτά αποδίδονται στην τελική στήλη του πίνακα.\n",
    "<br>\n",
    "Όσο αφορά την υψηλη απόδοση των ταξινομητών, το δίκτυο MLP συντίθεται από ένα σύνολο\n",
    "αισθητήρων (πηγαίοι κόμβοι), που αποτελούν το επίπεδο εισόδου, ένα ή περισσότερα κρυφά επίπεδα\n",
    "(hidden-layers) και ένα επίπεδο εξόδων. Τα κρυφά επίπεδα και το επίπεδο εξόδου, αποτελούν\n",
    "υπολογιστικοί κόμβοι, δηλαδή εκεί πραγματοποιούνται οι πράξεις για τον υπολογισμό της τελικής\n",
    "τιμής εξόδου, που το δίκτυο παράγει. Κύριο χαρακτηριστικό της δομής των δικτύων πολλών επιπέδων,\n",
    "είναι ότι οι νευρώνες οποιουδήποτε στρώματος l, τροφοδοτούν αποκλειστικά τους νευρώνες του\n",
    "επόμενου στρώματος l+1 και λαμβάνουν πληροφορίες, μόνο από τους νευρώνες του προηγούμενου\n",
    "στρώματος l-1. Σημαντική ιδιότητα των MLP αποτελεί η ενσωμάτωση της σιγμοειδούς συνάρτησης. Τα δίκτυα αυτά, έχουν την\n",
    "ικανότητα να προσεγγίζουν οποιαδήποτε συνεχή συνάρτηση όσο το επιθυμητό κοντά, με μόλις δύο\n",
    "επίπεδα και γι αυτό ονομάζονται καθολικοί προσεγγιστές. \n",
    "<br>\n",
    "Mε την χρήση των SVM's η  κατηγοριοποίηση των δεδομένων στηρίζεται στην εύρεση ενός βέλτιστου υπερεπιπέδου που διαχωρίζει τα δεδομένα δημιουργώντας το μέγιστο\n",
    "περιθώριο. Στην περίπτωση που ο γραμμικός διαχωρισμός είναι αδύνατος, γίνεται\n",
    "χρήση κατάλληλων απεικονίσεων που μεταφέρουν το σύνολο των δεδομένων σε\n",
    "μεγαλύτερη διάσταση ώστε να επιτευχθεί τελικά ο διαχωρισμός τους. Στα πλεονεκτήματα της μεθόδου συγκαταλλέγονται το ότι το πρόβλημα βελτιστοποίησης, λόγω\n",
    "κυρτότητας, παρουσιάζει ολικό ελάχιστο δίνοντας μοναδική βέλτιστη\n",
    "επιλογή και η σημαντική ικανότητα γενίκευσης σε μη γραμμικά\n",
    "διαχωρίσιμα δεδομένα ενσωματώνοντας το τέχνασμα του πυρήνα\n",
    "(kernel trick). Με την εφαρμογή συναρτήσεων πυρήνα είναι δυνατή η\n",
    "παραγωγή μη γραμμικών μοντέλων που οδηγούν σε γραμμικότητα σε\n",
    "χώρους μεγαλύτερων διαστάσεων. Τα παραπάνω συνοδεύονται ορισμένες φορές με το κόστος του αυξημένου χρόνου εκπαίδευσης.\n"
   ]
  },
  {
   "cell_type": "markdown",
   "metadata": {},
   "source": [
    "Για την καύτερη αντίληψη των λαθών, αποδίδουμε τους confusion matrices για τον κάθε ταξινομητή. Παρακάτω γίνεται αισθητή η υπεροχή του Multi-Layer Perceptron."
   ]
  },
  {
   "cell_type": "code",
   "execution_count": 29,
   "metadata": {},
   "outputs": [
    {
     "data": {
      "image/png": "[encoded data removed]",
      "text/plain": [
       "<Figure size 432x288 with 2 Axes>"
      ]
     },
     "metadata": {
      "needs_background": "light"
     },
     "output_type": "display_data"
    },
    {
     "data": {
      "image/png": "[encoded data removed]",
      "text/plain": [
       "<Figure size 432x288 with 2 Axes>"
      ]
     },
     "metadata": {
      "needs_background": "light"
     },
     "output_type": "display_data"
    }
   ],
   "source": [
    "from sklearn.metrics import confusion_matrix, plot_confusion_matrix\n",
    "import matplotlib.pyplot as plt \n",
    "\n",
    "#best classifier: preprocessing Logistic Regression\n",
    "mlp=MLPClassifier(activation = 'logistic', solver= 'adam', tol= 0, learning_rate = 'constant')\n",
    "mlp.fit(X_train,y_train)\n",
    "y1_pred = mlp.predict(X_test)\n",
    "M1 = confusion_matrix(y_test, y1_pred)\n",
    "plot_confusion_matrix(mlp, X_test, y_test)\n",
    "plt.title(\"MLP\")\n",
    "plt.show()\n",
    "\n",
    "#worst classifier (except from dummy):\n",
    "svm = SVC(C = 0.002, kernel= 'rbf', degree= 27, gamma= 0.011)\n",
    "svm.fit(X_train,y_train)\n",
    "y2_pred = svm.predict(X_test)\n",
    "M2 = confusion_matrix(y_test, y2_pred)\n",
    "plot_confusion_matrix(svm, X_test, y_test)\n",
    "plt.title(\"SVM\")\n",
    "plt.show()"
   ]
  }
 ],
 "metadata": {
  "kernelspec": {
   "display_name": "Python 3",
   "language": "python",
   "name": "python3"
  },
  "language_info": {
   "codemirror_mode": {
    "name": "ipython",
    "version": 3
   },
   "file_extension": ".py",
   "mimetype": "text/x-python",
   "name": "python",
   "nbconvert_exporter": "python",
   "pygments_lexer": "ipython3",
   "version": "3.9.0"
  }
 },
 "nbformat": 4,
 "nbformat_minor": 4
}
